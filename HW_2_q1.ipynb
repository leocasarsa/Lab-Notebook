{
 "metadata": {
  "name": ""
 },
 "nbformat": 3,
 "nbformat_minor": 0,
 "worksheets": [
  {
   "cells": [
    {
     "cell_type": "markdown",
     "metadata": {},
     "source": [
      "## Task\n",
      "\n",
      "(i) For the SIMULATE/ESTIMATE/INFER stuff: Please make a simple Python interface for these 3 capabilities --- as a separate generator_emulator.py interface file --- using the abstract base class module in Python, with method-level documentation. Include a constructor that takes a type specification as input (a dict mapping variable names to type specs, where a type spec is either \"numerical\", \"numerical with a range\", or \"closed-set categorical with a specific # of outcomes).\n",
      "\n",
      "Demonstrate it works by providing 4 implementations, + the test cases that show it's working:\n",
      "\n",
      "- a Naive Bayes implementation in pure Python (that enforces numerical range constraints as a post-processing/rejection step)\n",
      "- a Bayesian naive Bayes implementation in Venture (that uses separate programs to model each column)\n",
      "- a heuristic mixture-model based method that fits the mixture by using k means clustering (mapping discrete values to numbers, or using your favorite hybrid discrete/continuous distance metric), choosing k via crossvalidation-based model selection\n",
      "\n",
      "For INFER, do something simple and heuristic for continuous values: fit a mixture of a very-broad-variance Gaussian and a narrow variance Gaussian (heuristically if you want, or via a Bayesian fit in Venture), and test if the weight on the narrow-variance component is above the given confidence threshold.\n",
      "\n",
      "Provide test cases that show, graphically, that the two naive Bayes implementations work on a couple of representative type signatures (when the true generator is realizable given those hypothesis classes), and another test that shows that if the true generator is realizable under the mixture but not naive bayes (i.e. it has a couple components), the mixture works better given enough data."
     ]
    },
    {
     "cell_type": "markdown",
     "metadata": {},
     "source": [
      "### Questions\n",
      "- What is the definition of an interface (interface file)?\n",
      "\n",
      "- What is a dict?\n",
      "\n",
      "- Shoud SIMULATE/ESTIMATE/INFER be subclasses or methods?\n",
      "\n",
      "- Review the functionalities of SIMULATE/ESTIMATE/INFER from bayeslite\n",
      "\n",
      "- How does Naive Bayes work?\n",
      "\n",
      "- What is heuristic?\n",
      "\n",
      "- What is a type signature?"
     ]
    },
    {
     "cell_type": "code",
     "collapsed": false,
     "input": [
      "from abc import ABCMeta, abstractmethod\n",
      "\n",
      "class BaseClass(object):\n",
      "    __metaclass__ = ABCMeta\n",
      "    \n",
      "    @abstractmethod\n",
      "    __init__(self,specType)\n",
      "    \"\"\"  takes a a dict mapping variable names to type specs as input \"\"\"\n",
      "    \n",
      "    @abstractmethod\n",
      "    def Simulate(self)\n",
      "        pass\n",
      "\n",
      "    @abstractmethod\n",
      "    def Estimate(self)\n",
      "        pass\n",
      "    \n",
      "    @abstractmethod\n",
      "    def Infer(self)\n",
      "        pass"
     ],
     "language": "python",
     "metadata": {},
     "outputs": []
    }
   ],
   "metadata": {}
  }
 ]
}