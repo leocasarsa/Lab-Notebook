{
 "cells": [
  {
   "cell_type": "markdown",
   "metadata": {},
   "source": [
    "## Code Snippet\n",
    "From bayeslite/metamodel.py"
   ]
  },
  {
   "cell_type": "code",
   "execution_count": 2,
   "metadata": {
    "collapsed": true
   },
   "outputs": [],
   "source": [
    "class MyMetamodel(object):\n",
    "    \"\"\"Metamodel interface.\n",
    "    \n",
    "    Subclasses of :class:'MyMetamodel' implement the functionality needed to\n",
    "    sample from and inquire about the posterior distribution of a generative\n",
    "    model conditioned on data in a table.\n",
    "    \"\"\"\n",
    "    \n",
    "    def name(self):\n",
    "        \"\"\"Return the name of the metamodel as a str\"\"\"\n",
    "        raise NotImplementedError\n",
    "        \n",
    "    def register(self,bdb):\n",
    "        \"\"\"Install any state needed for the metamodel\"\"\"\n",
    "        raise NotImplementedError\n",
    "    \n",
    "    def predict(self, generator_id, modelno, colno, rowid, threshold, numsamples=None):\n",
    "        \"\"\"Predict a value for a column, if confidence is high enough.\"\"\"\n",
    "        value, confidence = self.predict_confidence(generator_id, modelno, colno, rowid, \n",
    "            numsamples=numsamples)\n",
    "        if confidence < threshold:\n",
    "            return None\n",
    "        return value\n",
    "    \n",
    "    def predict_confidence(self, generator_id, modelno, colno, rowid, numsamples=None):\n",
    "        \"\"\"Predict a value for a column and return confidence\"\"\"\n",
    "        raise NotImplementedError\n",
    "        \n",
    "    def simulate(self, generator_id, modelno, constraints, colnos, numpredictions=1):\n",
    "        \"\"\"Simulate 'colnos' from a generator, subject to 'constraints'.\n",
    "        \n",
    "        Returns a list of rows with values for the specified columns.\n",
    "        \n",
    "        'colnos'         - list of column numbers.\n",
    "        'constraints'    - list of ''(colno, value)'' pairs.\n",
    "        'numpredictions' - number of results to return.\n",
    "        \"\"\" \n",
    "        raise NotImplementedError\n",
    "    \n",
    "    def column_dependence_probability(self, colno0, colno1):\n",
    "        \"\"\"Compute Dependence Probability of <col0> with <col1>\"\"\"\n",
    "    \n",
    "    def estimate "
   ]
  },
  {
   "cell_type": "code",
   "execution_count": null,
   "metadata": {
    "collapsed": true
   },
   "outputs": [],
   "source": [
    "import random\n",
    "\n",
    "class NIGNormalMetamodel(MyMetamodel):\n",
    "    \"\"\"Normal-Inverse-Gamma-Normal metamodel for MyMetamodel.\"\"\"\n",
    "    \n",
    "    def __init__(self, hypers=(0,1,1,1), seed=0):\n",
    "        self.hypers = hypers\n",
    "        self.prng = random.Random(seed)\n",
    "        \n",
    "    def name(self): return 'nig_normal'\n",
    "    \n",
    "    def register(self)"
   ]
  },
  {
   "cell_type": "code",
   "execution_count": null,
   "metadata": {
    "collapsed": true
   },
   "outputs": [],
   "source": [
    "class TrollMetamodel(MyMetamodel):\n",
    "    \"\"\"Troll metamodel for MyMetamodel.\n",
    "\n",
    "    The metamodel is named ``troll_rng``.\n",
    "\n",
    "        CREATE GENERATOR t_troll FOR t USING troll_rng(..)\n",
    "    \"\"\"\n",
    "\n",
    "    def __init__(self): pass\n",
    "    \n",
    "    def name(self): return 'troll_rng'\n",
    "#     def register(self, bdb):\n",
    "#         bdb.sql_execute('''\n",
    "#             INSERT INTO bayesdb_metamodel (name, version)\n",
    "#                 VALUES ('troll_rng', 1)\n",
    "#         ''')\n",
    "#     def create_generator(self, bdb, table, schema, instantiate):\n",
    "#         instantiate(schema)\n",
    "#     def drop_generator(self, *args, **kwargs): pass\n",
    "#     def rename_column(self, *args, **kwargs): pass\n",
    "#     def initialize_models(self, *args, **kwargs): pass\n",
    "#     def drop_models(self, *args, **kwargs): pass\n",
    "#     def analyze_models(self, *args, **kwargs): pass\n",
    "\n",
    "    def simulate_joint(self, targets):\n",
    "        return [9 for _ in targets]\n",
    "    \n",
    "    def logpdf(self, targets, constraints):\n",
    "        for (_, _, value) in constraints:\n",
    "            if not value == 9:\n",
    "                return float(\"nan\")\n",
    "        for (_, _, value) in targets:\n",
    "            if not value == 9:\n",
    "                return float(\"-inf\")\n",
    "        # TODO This is only correct wrt counting measure.  What's the\n",
    "        # base measure of numericals?\n",
    "        return 0\n",
    "    \n",
    "    def simulate(self, targets, constraints):\n",
    "        for (_, _, value) in constraints:\n",
    "            if not value == 9:\n",
    "                return float(\"nan\")\n",
    "        return [9 for _ in targets]    \n",
    "            \n",
    "    def insert(self, *args, **kwargs): pass\n",
    "    def remove(self, *args, **kwargs): pass\n",
    "    def infer(self, *args, **kwargs): pass\n"
   ]
  },
  {
   "cell_type": "code",
   "execution_count": 17,
   "metadata": {
    "collapsed": false
   },
   "outputs": [
    {
     "data": {
      "text/plain": [
       "[9, 9]"
      ]
     },
     "execution_count": 17,
     "metadata": {},
     "output_type": "execute_result"
    }
   ],
   "source": [
    "x = (1,1,2,2)\n",
    "\n",
    "def simulate_joint(targets):\n",
    "    return [9 for _ in targets]\n",
    "\n",
    "simulate_joint([[1,3,5],[0,1,3]])"
   ]
  },
  {
   "cell_type": "code",
   "execution_count": 20,
   "metadata": {
    "collapsed": false
   },
   "outputs": [
    {
     "data": {
      "text/plain": [
       "{'continuous': {'mu': 0.0, 'rho': 1.0},\n",
       " 'cyclic': {'kappa': 2.0, 'mu': 3.141592653589793},\n",
       " 'multinomial': {'weights': [0.2, 0.2, 0.2, 0.2, 0.2]}}"
      ]
     },
     "execution_count": 20,
     "metadata": {},
     "output_type": "execute_result"
    }
   ],
   "source": [
    "import math\n",
    "\n",
    "default_data_parameters = dict(\n",
    "    multinomial=dict(weights=[1.0/5.0]*5),\n",
    "    continuous=dict(mu=0.0, rho=1.0),\n",
    "    cyclic=dict(mu=math.pi, kappa=2.0)\n",
    "    )\n",
    "\n",
    "default_data_parameters"
   ]
  }
 ],
 "metadata": {
  "kernelspec": {
   "display_name": "Python 2",
   "language": "python",
   "name": "python2"
  },
  "language_info": {
   "codemirror_mode": {
    "name": "ipython",
    "version": 2
   },
   "file_extension": ".py",
   "mimetype": "text/x-python",
   "name": "python",
   "nbconvert_exporter": "python",
   "pygments_lexer": "ipython2",
   "version": "2.7.6"
  }
 },
 "nbformat": 4,
 "nbformat_minor": 0
}
