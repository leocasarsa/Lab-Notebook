{
 "cells": [
  {
   "cell_type": "markdown",
   "metadata": {},
   "source": [
    "## Code Snippets\n",
    "From crosscat/tests/component_model_extensions/ContinuousComponentModel.py\n",
    "Modified with a rejection step"
   ]
  },
  {
   "cell_type": "code",
   "execution_count": 7,
   "metadata": {
    "collapsed": true
   },
   "outputs": [],
   "source": [
    "import numpy\n",
    "import random"
   ]
  },
  {
   "cell_type": "code",
   "execution_count": 27,
   "metadata": {
    "collapsed": true
   },
   "outputs": [],
   "source": [
    "default_hyperparameters = dict(nu=1.0, mu=0.0, s=1.0, r=1.0)\n",
    "default_data_parameters = dict(mu=0.0, rho=1.0, bounds=[0.,7.])"
   ]
  },
  {
   "cell_type": "code",
   "execution_count": 41,
   "metadata": {
    "collapsed": true
   },
   "outputs": [],
   "source": [
    "def check_hyperparams_dict(hypers):\n",
    "    if type(hypers) is not dict:\n",
    "        raise TypeError(\"hypers should be a dict\")\n",
    "\n",
    "    keys = ['mu', 'nu', 'r', 's']\n",
    "\n",
    "    for key in keys:\n",
    "        if key not in hypers.keys():\n",
    "            raise KeyError(\"missing key in hypers: %s\" % key)\n",
    "\n",
    "    for key, value in hypers.iteritems():\n",
    "        if key not in keys:\n",
    "            raise KeyError(\"invalid hypers key: %s\" % key)\n",
    "\n",
    "        if type(value) is not float \\\n",
    "        and type(value) is not numpy.float64:\n",
    "            raise TypeError(\"%s should be float\" % key)\n",
    "\n",
    "        if key in ['nu', 'r', 's']:\n",
    "            if value <= 0.0:\n",
    "                raise ValueError(\"hypers[%s] should be greater than 0\" % key)\n",
    "\n",
    "def check_model_params_dict(params):\n",
    "    if type(params) is not dict:\n",
    "        raise TypeError(\"params should be a dict\")\n",
    "\n",
    "    keys = ['mu', 'rho', 'bounds']\n",
    "\n",
    "    for key in keys:\n",
    "        if key not in params.keys():\n",
    "            raise KeyError(\"missing key in params: %s\" % key)\n",
    "\n",
    "    for key, value in params.iteritems():\n",
    "        if key not in keys:\n",
    "            raise KeyError(\"invalid params key: %s\" % key)\n",
    "\n",
    "        if type(value) is not float \\\n",
    "        and type(value) is not numpy.float64 \\\n",
    "        and key!=\"bounds\":\n",
    "            raise TypeError(\"%s should be float or list\" % key)\n",
    "\n",
    "        if keys == \"bounds\":\n",
    "            if len(values) == 2:\n",
    "                print(\"yes\")    \n",
    "        elif key == \"rho\":\n",
    "            if value <= 0.0:\n",
    "                raise ValueError(\"rho should be greater than 0\")\n",
    "#         elif key == \"bounds\":\n",
    "#             if values[0]>=values[1]:\n",
    "#                 raise ValueError(\"lower bound should be less than upper bound\")\n",
    "        elif key != \"mu\":\n",
    "            raise KeyError(\"Invalid params key: %s\" % key)"
   ]
  },
  {
   "cell_type": "code",
   "execution_count": 20,
   "metadata": {
    "collapsed": false
   },
   "outputs": [],
   "source": [
    "def generate_data_from_parameters(params, N, gen_seed=0):\n",
    "    \"\"\"\n",
    "    Generates data from a gaussian distribution\n",
    "    Inputs:\n",
    "        params: a dict with entries 'mu' and 'rho'\n",
    "        N: number of data points\n",
    "    \"\"\"\n",
    "    if type(N) is not int:\n",
    "        raise TypeError(\"N should be an int\")\n",
    "\n",
    "    if N <= 0:\n",
    "        raise ValueError(\"N should be greater than 0\")\n",
    "\n",
    "    check_model_params_dict(params)\n",
    "\n",
    "    mu = params['mu']\n",
    "    sigma = (1.0/params['rho'])**.5\n",
    "\n",
    "    X = numpy.array([[random.normalvariate(mu, sigma)] for i in range(N)])\n",
    "\n",
    "    assert len(X) == N\n",
    "    \n",
    "    return X\n",
    "\n",
    "def sample_parameters_given_hyper(hypers, gen_seed=0):\n",
    "    \"\"\"\n",
    "    Samples a Gaussian parameter given the current hyperparameters.\n",
    "    Inputs:\n",
    "        gen_seed: integer used to seed the rng\n",
    "    \"\"\"\n",
    "    if type(gen_seed) is not int:\n",
    "        raise TypeError(\"gen_seed should be an int\")\n",
    "\n",
    "    random.seed(gen_seed)\n",
    "\n",
    "    check_hyperparams_dict(hypers)\n",
    "    \n",
    "    s = hypers['s']\n",
    "    r = hypers['r']\n",
    "    nu = hypers['nu']\n",
    "    m = hypers['mu']\n",
    "\n",
    "    rho = random.gammavariate(nu/2.0, s)\n",
    "    mu = random.normalvariate(m, (r/rho)**.5)\n",
    "\n",
    "    assert(rho > 0)\n",
    "\n",
    "    params = {'mu': mu, 'rho': rho}\n",
    "\n",
    "    return params"
   ]
  },
  {
   "cell_type": "code",
   "execution_count": 21,
   "metadata": {
    "collapsed": false
   },
   "outputs": [
    {
     "data": {
      "text/plain": [
       "{'mu': 0.06527832766607049, 'rho': 0.24793567900155938}"
      ]
     },
     "execution_count": 21,
     "metadata": {},
     "output_type": "execute_result"
    }
   ],
   "source": [
    "# generate_data_from_parameters(default_data_parameters,10)\n",
    "sample_parameters_given_hyper(default_hyperparameters)"
   ]
  },
  {
   "cell_type": "code",
   "execution_count": null,
   "metadata": {
    "collapsed": true
   },
   "outputs": [],
   "source": [
    "def get_posterior_from_data()"
   ]
  },
  {
   "cell_type": "code",
   "execution_count": 43,
   "metadata": {
    "collapsed": false
   },
   "outputs": [
    {
     "data": {
      "text/plain": [
       "{'bounds': [0.0, 7.0], 'mu': 0.0, 'rho': 1.0}"
      ]
     },
     "execution_count": 43,
     "metadata": {},
     "output_type": "execute_result"
    }
   ],
   "source": [
    "# check_model_params_dict(default_data_parameters)\n",
    "default_data_parameters"
   ]
  },
  {
   "cell_type": "code",
   "execution_count": 40,
   "metadata": {
    "collapsed": false
   },
   "outputs": [
    {
     "name": "stdout",
     "output_type": "stream",
     "text": [
      "yes\n"
     ]
    }
   ],
   "source": [
    "d = default_data_parameters\n",
    "for keys, values in d.iteritems():\n",
    "    if keys == \"bounds\":\n",
    "        if len(values) == 2:\n",
    "            print(\"yes\")\n",
    "    "
   ]
  }
 ],
 "metadata": {
  "kernelspec": {
   "display_name": "Python 2",
   "language": "python",
   "name": "python2"
  },
  "language_info": {
   "codemirror_mode": {
    "name": "ipython",
    "version": 2
   },
   "file_extension": ".py",
   "mimetype": "text/x-python",
   "name": "python",
   "nbconvert_exporter": "python",
   "pygments_lexer": "ipython2",
   "version": "2.7.6"
  }
 },
 "nbformat": 4,
 "nbformat_minor": 0
}
