{
 "cells": [
  {
   "cell_type": "code",
   "execution_count": null,
   "metadata": {
    "collapsed": true
   },
   "outputs": [],
   "source": [
    "    def _conditional_mutual_information(self, bdb, genid, modelno, X, W, Z, Y,\n",
    "            numsamples=None):\n",
    "        # WARNING: SUPER EXPERIMENTAL.\n",
    "        # Computes the conditional mutual information I(X:W|Z,Y=y), defined\n",
    "        # defined as the expectation E_z~Z{X:W|Z=z,Y=y}.\n",
    "        # X, W, and Z must each be a list [(rowid, colno), ..].\n",
    "        # Y is an evidence list [(rowid,colno,val), ..].\n",
    "        if numsamples is None:\n",
    "            numsamples = self.n_samples\n",
    "        # All sets must be disjoint.\n",
    "        all_cols = X + W + Z + [(r,c) for r,c,_ in Y]\n",
    "        if len(all_cols) != len(set(all_cols)):\n",
    "            raise ValueError('Duplicate cells received in '\n",
    "                'conditional_mutual_information.\\n'\n",
    "                'X: {}\\nW: {}\\nZ: {}\\nY: {}'.format(X, W, Z, Y))\n",
    "        # Simulate from joint.\n",
    "        XWZ_samples = self.simulate(bdb, genid, modelno, X+W+Z,\n",
    "            Y, numpredictions=numsamples)\n",
    "        # Simple Monte Carlo\n",
    "        mi = logpz = logpxwz = logpxz = logpwz = 0\n",
    "        for s in XWZ_samples:\n",
    "            Qx = [(r,c,v) for ((r,c),v) in zip(X, s[:len(X)])]\n",
    "            Qw = [(r,c,v) for ((r,c),v) in zip(W, s[len(X):len(X)+len(W)])]\n",
    "            Qz = [(r,c,v) for ((r,c),v) in zip(Z, s[len(X)+len(W):])]\n",
    "            if Z:\n",
    "                logpz = self._joint_logpdf(bdb, genid, modelno, Qz, Y)\n",
    "            else:\n",
    "                logpz = 0\n",
    "            logpxwz = self._joint_logpdf(bdb, genid, modelno, Qx+Qw+Qz, Y)\n",
    "            logpxz = self._joint_logpdf(bdb, genid, modelno, Qx+Qz, Y)\n",
    "            logpwz = self._joint_logpdf(bdb, genid, modelno, Qw+Qz, Y)\n",
    "            mi += logpz + logpxwz - logpxz - logpwz\n",
    "        # TODO: linfoot?\n",
    "        # TODO: If negative, report to user that reliable answer cannot be\n",
    "        # returned with current `numsamples`.\n",
    "        # Averaging is in direct space is correct.\n",
    "        return mi/numsamples\n"
   ]
  },
  {
   "cell_type": "code",
   "execution_count": 30,
   "metadata": {
    "collapsed": false
   },
   "outputs": [
    {
     "data": {
      "text/plain": [
       "[(1, 2, 3), (4, 5, 6)]"
      ]
     },
     "execution_count": 30,
     "metadata": {},
     "output_type": "execute_result"
    }
   ],
   "source": []
  },
  {
   "cell_type": "code",
   "execution_count": null,
   "metadata": {
    "collapsed": true
   },
   "outputs": [],
   "source": [
    "# X + W + Z -> concatenates lists\n",
    "# set(X) -> unique(X) in MATLAB lingo\n",
    "# zip([1,2,3],[1,2,3])\n",
    "# zip(*zip([1,2,3],[1,2,3]))"
   ]
  },
  {
   "cell_type": "code",
   "execution_count": 1,
   "metadata": {
    "collapsed": false
   },
   "outputs": [
    {
     "data": {
      "text/plain": [
       "{1, 2}"
      ]
     },
     "execution_count": 1,
     "metadata": {},
     "output_type": "execute_result"
    }
   ],
   "source": [
    "    def simulate(self, bdb, genid, modelno, targets, constraints,\n",
    "            numpredictions=1):\n",
    "        # Delegate to crosscat if colnos+constraints all lcols.\n",
    "        colnos = [c for _,c in targets]\n",
    "        all_cols = [c for _,c,_ in constraints] + colnos\n",
    "        if all(f not in all_cols for f in self.fcols(bdb, genid)):\n",
    "            Y_cc = [(r, self.cc_colno(bdb, genid, c), v)\n",
    "                for r, c, v in constraints]\n",
    "            Q_cc = [(r, self.cc_colno(bdb, genid, c)) for r,c in targets]\n",
    "            return self.cc(bdb, genid).simulate_joint(bdb,\n",
    "                self.cc_id(bdb, genid), Q_cc, Y_cc, modelno,\n",
    "                num_predictions=numpredictions)\n",
    "        # Solve inference problem by sampling-importance resampling.\n",
    "        result = []\n",
    "        for r,_ in targets:\n",
    "            assert r == targets[0][0], \"Cannot simulate more than one row, \"\\\n",
    "                \"%s and %s requested\" % (targets[0][0], r)\n",
    "        for _ in xrange(numpredictions):\n",
    "            samples, weights = self._weighted_sample(bdb, genid, modelno,\n",
    "                targets[0][0], constraints)\n",
    "            p = np.exp(np.asarray(weights) - np.max(weights))\n",
    "            p /= np.sum(p)\n",
    "            draw = np.nonzero(bdb.np_prng.multinomial(1,p))[0][0]\n",
    "            s = [samples[draw].get(col) for col in colnos]\n",
    "            result.append(s)\n",
    "        return result"
   ]
  },
  {
   "cell_type": "code",
   "execution_count": 7,
   "metadata": {
    "collapsed": false
   },
   "outputs": [
    {
     "data": {
      "text/plain": [
       "False"
      ]
     },
     "execution_count": 7,
     "metadata": {},
     "output_type": "execute_result"
    }
   ],
   "source": [
    "# all(iterable) -> Return True if bool(x) is True for all values x in the iterable.\n",
    "# for x in (f not in [0,3,4] for f in [1,2,3]):\n",
    "#     print x\n"
   ]
  },
  {
   "cell_type": "code",
   "execution_count": 22,
   "metadata": {
    "collapsed": false
   },
   "outputs": [
    {
     "data": {
      "text/plain": [
       "[(1, 2, 3), (1, 2, 3)]"
      ]
     },
     "execution_count": 22,
     "metadata": {},
     "output_type": "execute_result"
    }
   ],
   "source": []
  },
  {
   "cell_type": "code",
   "execution_count": 2,
   "metadata": {
    "collapsed": true
   },
   "outputs": [],
   "source": [
    "import os\n",
    "import pytest\n",
    "\n",
    "import bayeslite\n",
    "from bayeslite.sqlite3_util import sqlite3_quote_name as quote\n",
    "\n",
    "import bdbcontrib\n",
    "from bdbcontrib.metamodels.composer import Composer\n",
    "from bdbcontrib.predictors import random_forest\n",
    "from bdbcontrib.predictors import keplers_law\n",
    "from bdbcontrib.predictors import multiple_regression"
   ]
  },
  {
   "cell_type": "code",
   "execution_count": 3,
   "metadata": {
    "collapsed": false
   },
   "outputs": [],
   "source": [
    "PATH_TESTS = os.path.dirname('/home/casarsa/Git/bdbcontrib/tests/test_composer.py')\n",
    "PATH_ROOT = os.path.dirname(PATH_TESTS)\n",
    "PATH_EXAMPLES = os.path.join(PATH_ROOT, 'examples')\n",
    "PATH_SATELLITES = os.path.join(PATH_EXAMPLES, 'satellites')\n",
    "PATH_SATELLITES_CSV = os.path.join(PATH_SATELLITES, 'satellites.csv')"
   ]
  },
  {
   "cell_type": "code",
   "execution_count": 4,
   "metadata": {
    "collapsed": false,
    "scrolled": true
   },
   "outputs": [
    {
     "data": {
      "text/plain": [
       "<bayeslite.bql.BayesDBCursor at 0x7f66aa3069d0>"
      ]
     },
     "execution_count": 4,
     "metadata": {},
     "output_type": "execute_result"
    }
   ],
   "source": [
    "bdb = bayeslite.bayesdb_open()\n",
    "bayeslite.bayesdb_read_csv_file(bdb, 'satellites', PATH_SATELLITES_CSV, header=True, create=True)\n",
    "bdbcontrib.nullify(bdb, 'satellites', 'NaN')\n",
    "# Composer.\n",
    "composer = Composer(n_samples=5)\n",
    "composer.register_foreign_predictor(\n",
    "    multiple_regression.MultipleRegression)\n",
    "composer.register_foreign_predictor(keplers_law.KeplersLaw)\n",
    "composer.register_foreign_predictor(random_forest.RandomForest)\n",
    "bayeslite.bayesdb_register_metamodel(bdb, composer)\n",
    "\n",
    "bdb.execute('''\n",
    "    CREATE GENERATOR t1 FOR satellites USING composer(\n",
    "        default (\n",
    "            Country_of_Operator CATEGORICAL, Operator_Owner CATEGORICAL,\n",
    "            Users CATEGORICAL, Purpose CATEGORICAL,\n",
    "            Class_of_orbit CATEGORICAL, Perigee_km NUMERICAL,\n",
    "            Apogee_km NUMERICAL, Eccentricity NUMERICAL,\n",
    "            Launch_Mass_kg NUMERICAL, Dry_Mass_kg NUMERICAL,\n",
    "            Power_watts NUMERICAL, Date_of_Launch NUMERICAL,\n",
    "            Contractor CATEGORICAL,\n",
    "            Country_of_Contractor CATEGORICAL, Launch_Site CATEGORICAL,\n",
    "            Launch_Vehicle CATEGORICAL,\n",
    "            Source_Used_for_Orbital_Data CATEGORICAL,\n",
    "            longitude_radians_of_geo NUMERICAL,\n",
    "            Inclination_radians NUMERICAL,\n",
    "        ),\n",
    "        random_forest (\n",
    "            Type_of_Orbit CATEGORICAL\n",
    "                GIVEN Apogee_km, Perigee_km,\n",
    "                    Eccentricity, Period_minutes, Launch_Mass_kg,\n",
    "                    Power_watts, Anticipated_Lifetime, Class_of_orbit\n",
    "        ),\n",
    "        keplers_law (\n",
    "            Period_minutes NUMERICAL\n",
    "                GIVEN Perigee_km, Apogee_km\n",
    "        ),\n",
    "        multiple_regression (\n",
    "            Anticipated_Lifetime NUMERICAL\n",
    "                GIVEN Dry_Mass_kg, Power_watts, Launch_Mass_kg,\n",
    "                Contractor\n",
    "        ),\n",
    "        DEPENDENT(Apogee_km, Perigee_km, Eccentricity),\n",
    "        DEPENDENT(Contractor, Country_of_Contractor),\n",
    "        INDEPENDENT(Country_of_Operator, Date_of_Launch)\n",
    "    );''')\n",
    "\n",
    "\n",
    "    # Use complex generator for interesting test cases.\n",
    "# generator_id = bayeslite.core.bayesdb_get_generator(bdb, 't1_cc')\n",
    "# composer = core.bayesdb_generator_metamodel(bdb, generator_id)\n",
    "# composer.conditional_mutual_information(bdb, generator_id, modelno, X, W, Z, Y, numsamples=None)"
   ]
  },
  {
   "cell_type": "code",
   "execution_count": 21,
   "metadata": {
    "collapsed": false
   },
   "outputs": [
    {
     "name": "stderr",
     "output_type": "stream",
     "text": [
      "ERROR: An unexpected error occurred while tokenizing input\n",
      "The following traceback may be corrupted or invalid\n",
      "The error message is: ('EOF in multi-line string', (1, 6))\n",
      "\n"
     ]
    },
    {
     "ename": "BQLParseError",
     "evalue": "Parse errors:\n  syntax error near t1\n  If you would like to analyze your own data with BayesDB, please contact\n  bayesdb@mit.edu to participate in our research project.\n",
     "output_type": "error",
     "traceback": [
      "\u001b[1;31m---------------------------------------------------------------------------\u001b[0m",
      "\u001b[1;31mBQLParseError\u001b[0m                             Traceback (most recent call last)",
      "\u001b[1;32m<ipython-input-21-53da7b2cb72e>\u001b[0m in \u001b[0;36m<module>\u001b[1;34m()\u001b[0m\n\u001b[0;32m     18\u001b[0m             \u001b[0mAnticipated_Lifetime\u001b[0m \u001b[0mNUMERICAL\u001b[0m\u001b[1;33m,\u001b[0m \u001b[0mContractor\u001b[0m \u001b[0mCATEGORICAL\u001b[0m\u001b[1;33m\u001b[0m\u001b[0m\n\u001b[0;32m     19\u001b[0m         )\n\u001b[1;32m---> 20\u001b[1;33m     );''')\n\u001b[0m",
      "\u001b[1;32m/usr/local/lib/python2.7/dist-packages/bayeslite/bayesdb.pyc\u001b[0m in \u001b[0;36mexecute\u001b[1;34m(self, string, bindings)\u001b[0m\n\u001b[0;32m    213\u001b[0m             \u001b[0mbindings\u001b[0m \u001b[1;33m=\u001b[0m \u001b[1;33m(\u001b[0m\u001b[1;33m)\u001b[0m\u001b[1;33m\u001b[0m\u001b[0m\n\u001b[0;32m    214\u001b[0m         return self._maybe_trace(\n\u001b[1;32m--> 215\u001b[1;33m             self.tracer, self._do_execute, string, bindings)\n\u001b[0m\u001b[0;32m    216\u001b[0m \u001b[1;33m\u001b[0m\u001b[0m\n\u001b[0;32m    217\u001b[0m     \u001b[1;32mdef\u001b[0m \u001b[0m_maybe_trace\u001b[0m\u001b[1;33m(\u001b[0m\u001b[0mself\u001b[0m\u001b[1;33m,\u001b[0m \u001b[0mtracer\u001b[0m\u001b[1;33m,\u001b[0m \u001b[0mmeth\u001b[0m\u001b[1;33m,\u001b[0m \u001b[0mstring\u001b[0m\u001b[1;33m,\u001b[0m \u001b[0mbindings\u001b[0m\u001b[1;33m)\u001b[0m\u001b[1;33m:\u001b[0m\u001b[1;33m\u001b[0m\u001b[0m\n",
      "\u001b[1;32m/usr/local/lib/python2.7/dist-packages/bayeslite/bayesdb.pyc\u001b[0m in \u001b[0;36m_maybe_trace\u001b[1;34m(self, tracer, meth, string, bindings)\u001b[0m\n\u001b[0;32m    221\u001b[0m         \u001b[1;32mif\u001b[0m \u001b[0mtracer\u001b[0m\u001b[1;33m:\u001b[0m\u001b[1;33m\u001b[0m\u001b[0m\n\u001b[0;32m    222\u001b[0m             \u001b[0mtracer\u001b[0m\u001b[1;33m(\u001b[0m\u001b[0mstring\u001b[0m\u001b[1;33m,\u001b[0m \u001b[0mbindings\u001b[0m\u001b[1;33m)\u001b[0m\u001b[1;33m\u001b[0m\u001b[0m\n\u001b[1;32m--> 223\u001b[1;33m         \u001b[1;32mreturn\u001b[0m \u001b[0mmeth\u001b[0m\u001b[1;33m(\u001b[0m\u001b[0mstring\u001b[0m\u001b[1;33m,\u001b[0m \u001b[0mbindings\u001b[0m\u001b[1;33m)\u001b[0m\u001b[1;33m\u001b[0m\u001b[0m\n\u001b[0m\u001b[0;32m    224\u001b[0m \u001b[1;33m\u001b[0m\u001b[0m\n\u001b[0;32m    225\u001b[0m     \u001b[1;32mdef\u001b[0m \u001b[0m_qid\u001b[0m\u001b[1;33m(\u001b[0m\u001b[0mself\u001b[0m\u001b[1;33m)\u001b[0m\u001b[1;33m:\u001b[0m\u001b[1;33m\u001b[0m\u001b[0m\n",
      "\u001b[1;32m/usr/local/lib/python2.7/dist-packages/bayeslite/bayesdb.pyc\u001b[0m in \u001b[0;36m_do_execute\u001b[1;34m(self, string, bindings)\u001b[0m\n\u001b[0;32m    253\u001b[0m         \u001b[0mphrase\u001b[0m \u001b[1;33m=\u001b[0m \u001b[0mNone\u001b[0m\u001b[1;33m\u001b[0m\u001b[0m\n\u001b[0;32m    254\u001b[0m         \u001b[1;32mtry\u001b[0m\u001b[1;33m:\u001b[0m\u001b[1;33m\u001b[0m\u001b[0m\n\u001b[1;32m--> 255\u001b[1;33m             \u001b[0mphrase\u001b[0m \u001b[1;33m=\u001b[0m \u001b[0mphrases\u001b[0m\u001b[1;33m.\u001b[0m\u001b[0mnext\u001b[0m\u001b[1;33m(\u001b[0m\u001b[1;33m)\u001b[0m\u001b[1;33m\u001b[0m\u001b[0m\n\u001b[0m\u001b[0;32m    256\u001b[0m         \u001b[1;32mexcept\u001b[0m \u001b[0mStopIteration\u001b[0m\u001b[1;33m:\u001b[0m\u001b[1;33m\u001b[0m\u001b[0m\n\u001b[0;32m    257\u001b[0m             \u001b[1;32mraise\u001b[0m \u001b[0mValueError\u001b[0m\u001b[1;33m(\u001b[0m\u001b[1;34m'no BQL phrase in string'\u001b[0m\u001b[1;33m)\u001b[0m\u001b[1;33m\u001b[0m\u001b[0m\n",
      "\u001b[1;32m/usr/local/lib/python2.7/dist-packages/bayeslite/parse.pyc\u001b[0m in \u001b[0;36m<genexpr>\u001b[1;34m(***failed resolving arguments***)\u001b[0m\n\u001b[0;32m    102\u001b[0m \u001b[1;32mdef\u001b[0m \u001b[0mparse_bql_string\u001b[0m\u001b[1;33m(\u001b[0m\u001b[0mstring\u001b[0m\u001b[1;33m)\u001b[0m\u001b[1;33m:\u001b[0m\u001b[1;33m\u001b[0m\u001b[0m\n\u001b[0;32m    103\u001b[0m     \u001b[1;34m\"\"\"Yield each parsed BQL phrase AST in `string`.\"\"\"\u001b[0m\u001b[1;33m\u001b[0m\u001b[0m\n\u001b[1;32m--> 104\u001b[1;33m     \u001b[1;32mreturn\u001b[0m \u001b[1;33m(\u001b[0m\u001b[0mphrase\u001b[0m \u001b[1;32mfor\u001b[0m \u001b[0mphrase\u001b[0m\u001b[1;33m,\u001b[0m \u001b[0m_pos\u001b[0m \u001b[1;32min\u001b[0m \u001b[0mparse_bql_string_pos\u001b[0m\u001b[1;33m(\u001b[0m\u001b[0mstring\u001b[0m\u001b[1;33m)\u001b[0m\u001b[1;33m)\u001b[0m\u001b[1;33m\u001b[0m\u001b[0m\n\u001b[0m\u001b[0;32m    105\u001b[0m \u001b[1;33m\u001b[0m\u001b[0m\n\u001b[0;32m    106\u001b[0m \u001b[1;32mdef\u001b[0m \u001b[0mbql_string_complete_p\u001b[0m\u001b[1;33m(\u001b[0m\u001b[0mstring\u001b[0m\u001b[1;33m)\u001b[0m\u001b[1;33m:\u001b[0m\u001b[1;33m\u001b[0m\u001b[0m\n",
      "\u001b[1;32m/usr/local/lib/python2.7/dist-packages/bayeslite/parse.pyc\u001b[0m in \u001b[0;36m<genexpr>\u001b[1;34m(***failed resolving arguments***)\u001b[0m\n\u001b[0;32m     89\u001b[0m     \u001b[1;31m# XXX Don't dig out internals of scanner: fix plex to have a\u001b[0m\u001b[1;33m\u001b[0m\u001b[1;33m\u001b[0m\u001b[0m\n\u001b[0;32m     90\u001b[0m     \u001b[1;31m# public API for finding the current position.\u001b[0m\u001b[1;33m\u001b[0m\u001b[1;33m\u001b[0m\u001b[0m\n\u001b[1;32m---> 91\u001b[1;33m     \u001b[1;32mreturn\u001b[0m \u001b[1;33m(\u001b[0m\u001b[1;33m(\u001b[0m\u001b[0mphrase\u001b[0m\u001b[1;33m,\u001b[0m \u001b[0mscanner\u001b[0m\u001b[1;33m.\u001b[0m\u001b[0mcur_pos\u001b[0m\u001b[1;33m)\u001b[0m \u001b[1;32mfor\u001b[0m \u001b[0mphrase\u001b[0m \u001b[1;32min\u001b[0m \u001b[0mphrases\u001b[0m\u001b[1;33m)\u001b[0m\u001b[1;33m\u001b[0m\u001b[0m\n\u001b[0m\u001b[0;32m     92\u001b[0m \u001b[1;33m\u001b[0m\u001b[0m\n\u001b[0;32m     93\u001b[0m \u001b[1;32mdef\u001b[0m \u001b[0mparse_bql_string_pos_1\u001b[0m\u001b[1;33m(\u001b[0m\u001b[0mstring\u001b[0m\u001b[1;33m)\u001b[0m\u001b[1;33m:\u001b[0m\u001b[1;33m\u001b[0m\u001b[0m\n",
      "\u001b[1;32m/usr/local/lib/python2.7/dist-packages/bayeslite/parse.pyc\u001b[0m in \u001b[0;36mparse_bql_phrases\u001b[1;34m(scanner)\u001b[0m\n\u001b[0;32m     75\u001b[0m             \u001b[1;32mbreak\u001b[0m\u001b[1;33m\u001b[0m\u001b[0m\n\u001b[0;32m     76\u001b[0m     \u001b[1;32mif\u001b[0m \u001b[1;36m0\u001b[0m \u001b[1;33m<\u001b[0m \u001b[0mlen\u001b[0m\u001b[1;33m(\u001b[0m\u001b[0msemantics\u001b[0m\u001b[1;33m.\u001b[0m\u001b[0merrors\u001b[0m\u001b[1;33m)\u001b[0m\u001b[1;33m:\u001b[0m\u001b[1;33m\u001b[0m\u001b[0m\n\u001b[1;32m---> 77\u001b[1;33m         \u001b[1;32mraise\u001b[0m \u001b[0mBQLParseError\u001b[0m\u001b[1;33m(\u001b[0m\u001b[0msemantics\u001b[0m\u001b[1;33m.\u001b[0m\u001b[0merrors\u001b[0m\u001b[1;33m)\u001b[0m\u001b[1;33m\u001b[0m\u001b[0m\n\u001b[0m\u001b[0;32m     78\u001b[0m     \u001b[1;32mif\u001b[0m \u001b[0msemantics\u001b[0m\u001b[1;33m.\u001b[0m\u001b[0mfailed\u001b[0m\u001b[1;33m:\u001b[0m\u001b[1;33m\u001b[0m\u001b[0m\n\u001b[0;32m     79\u001b[0m         \u001b[1;32mraise\u001b[0m \u001b[0mBQLParseError\u001b[0m\u001b[1;33m(\u001b[0m\u001b[1;33m[\u001b[0m\u001b[1;34m'parse failed mysteriously!'\u001b[0m\u001b[1;33m]\u001b[0m\u001b[1;33m)\u001b[0m\u001b[1;33m\u001b[0m\u001b[0m\n",
      "\u001b[1;31mBQLParseError\u001b[0m: Parse errors:\n  syntax error near t1\n  If you would like to analyze your own data with BayesDB, please contact\n  bayesdb@mit.edu to participate in our research project.\n"
     ]
    }
   ],
   "source": [
    "bdb = bayeslite.bayesdb_open()\n",
    "bayeslite.bayesdb_read_csv_file(bdb, 'satellites', PATH_SATELLITES_CSV,\n",
    "    header=True, create=True)\n",
    "composer = Composer(n_samples=5)\n",
    "bayeslite.bayesdb_register_metamodel(bdb, composer)\n",
    "\n",
    "os.getenv('BAYESDB_WIZARD_MODE')\n",
    "\n",
    "bdb.execute('''\n",
    "    CREATE GENERATOR t1 FOR satellites USING composer(\n",
    "        default (\n",
    "            Country_of_Operator CATEGORICAL, Operator_Owner CATEGORICAL,\n",
    "            Users CATEGORICAL, Purpose CATEGORICAL,\n",
    "            Class_of_orbit CATEGORICAL, Perigee_km NUMERICAL,\n",
    "            Apogee_km NUMERICAL, Eccentricity NUMERICAL\n",
    "        ),\n",
    "        crosscat (\n",
    "            Anticipated_Lifetime NUMERICAL, Contractor CATEGORICAL\n",
    "        )\n",
    "    );''')"
   ]
  },
  {
   "cell_type": "code",
   "execution_count": 19,
   "metadata": {
    "collapsed": false
   },
   "outputs": [
    {
     "data": {
      "text/plain": [
       "0"
      ]
     },
     "execution_count": 19,
     "metadata": {},
     "output_type": "execute_result"
    }
   ],
   "source": [
    "os.system('export BAYESDB_WIZARD_MODE=1')"
   ]
  },
  {
   "cell_type": "code",
   "execution_count": 7,
   "metadata": {
    "collapsed": false
   },
   "outputs": [
    {
     "name": "stderr",
     "output_type": "stream",
     "text": [
      "ERROR: An unexpected error occurred while tokenizing input\n",
      "The following traceback may be corrupted or invalid\n",
      "The error message is: ('EOF in multi-line string', (1, 6))\n",
      "\n"
     ]
    },
    {
     "ename": "BQLParseError",
     "evalue": "Parse errors:\n  syntax error near t3\n  If you would like to analyze your own data with BayesDB, please contact\n  bayesdb@mit.edu to participate in our research project.\n",
     "output_type": "error",
     "traceback": [
      "\u001b[1;31m---------------------------------------------------------------------------\u001b[0m",
      "\u001b[1;31mBQLParseError\u001b[0m                             Traceback (most recent call last)",
      "\u001b[1;32m<ipython-input-7-e1f8c1802aa3>\u001b[0m in \u001b[0;36m<module>\u001b[1;34m()\u001b[0m\n\u001b[0;32m     10\u001b[0m             \u001b[0mApogee_km\u001b[0m \u001b[0mNUMERICAL\u001b[0m \u001b[0mGIVEN\u001b[0m \u001b[0mOperator_Owner\u001b[0m\u001b[1;33m\u001b[0m\u001b[0m\n\u001b[0;32m     11\u001b[0m         )\n\u001b[1;32m---> 12\u001b[1;33m     );''')\n\u001b[0m",
      "\u001b[1;32m/usr/local/lib/python2.7/dist-packages/bayeslite/bayesdb.pyc\u001b[0m in \u001b[0;36mexecute\u001b[1;34m(self, string, bindings)\u001b[0m\n\u001b[0;32m    213\u001b[0m             \u001b[0mbindings\u001b[0m \u001b[1;33m=\u001b[0m \u001b[1;33m(\u001b[0m\u001b[1;33m)\u001b[0m\u001b[1;33m\u001b[0m\u001b[0m\n\u001b[0;32m    214\u001b[0m         return self._maybe_trace(\n\u001b[1;32m--> 215\u001b[1;33m             self.tracer, self._do_execute, string, bindings)\n\u001b[0m\u001b[0;32m    216\u001b[0m \u001b[1;33m\u001b[0m\u001b[0m\n\u001b[0;32m    217\u001b[0m     \u001b[1;32mdef\u001b[0m \u001b[0m_maybe_trace\u001b[0m\u001b[1;33m(\u001b[0m\u001b[0mself\u001b[0m\u001b[1;33m,\u001b[0m \u001b[0mtracer\u001b[0m\u001b[1;33m,\u001b[0m \u001b[0mmeth\u001b[0m\u001b[1;33m,\u001b[0m \u001b[0mstring\u001b[0m\u001b[1;33m,\u001b[0m \u001b[0mbindings\u001b[0m\u001b[1;33m)\u001b[0m\u001b[1;33m:\u001b[0m\u001b[1;33m\u001b[0m\u001b[0m\n",
      "\u001b[1;32m/usr/local/lib/python2.7/dist-packages/bayeslite/bayesdb.pyc\u001b[0m in \u001b[0;36m_maybe_trace\u001b[1;34m(self, tracer, meth, string, bindings)\u001b[0m\n\u001b[0;32m    221\u001b[0m         \u001b[1;32mif\u001b[0m \u001b[0mtracer\u001b[0m\u001b[1;33m:\u001b[0m\u001b[1;33m\u001b[0m\u001b[0m\n\u001b[0;32m    222\u001b[0m             \u001b[0mtracer\u001b[0m\u001b[1;33m(\u001b[0m\u001b[0mstring\u001b[0m\u001b[1;33m,\u001b[0m \u001b[0mbindings\u001b[0m\u001b[1;33m)\u001b[0m\u001b[1;33m\u001b[0m\u001b[0m\n\u001b[1;32m--> 223\u001b[1;33m         \u001b[1;32mreturn\u001b[0m \u001b[0mmeth\u001b[0m\u001b[1;33m(\u001b[0m\u001b[0mstring\u001b[0m\u001b[1;33m,\u001b[0m \u001b[0mbindings\u001b[0m\u001b[1;33m)\u001b[0m\u001b[1;33m\u001b[0m\u001b[0m\n\u001b[0m\u001b[0;32m    224\u001b[0m \u001b[1;33m\u001b[0m\u001b[0m\n\u001b[0;32m    225\u001b[0m     \u001b[1;32mdef\u001b[0m \u001b[0m_qid\u001b[0m\u001b[1;33m(\u001b[0m\u001b[0mself\u001b[0m\u001b[1;33m)\u001b[0m\u001b[1;33m:\u001b[0m\u001b[1;33m\u001b[0m\u001b[0m\n",
      "\u001b[1;32m/usr/local/lib/python2.7/dist-packages/bayeslite/bayesdb.pyc\u001b[0m in \u001b[0;36m_do_execute\u001b[1;34m(self, string, bindings)\u001b[0m\n\u001b[0;32m    253\u001b[0m         \u001b[0mphrase\u001b[0m \u001b[1;33m=\u001b[0m \u001b[0mNone\u001b[0m\u001b[1;33m\u001b[0m\u001b[0m\n\u001b[0;32m    254\u001b[0m         \u001b[1;32mtry\u001b[0m\u001b[1;33m:\u001b[0m\u001b[1;33m\u001b[0m\u001b[0m\n\u001b[1;32m--> 255\u001b[1;33m             \u001b[0mphrase\u001b[0m \u001b[1;33m=\u001b[0m \u001b[0mphrases\u001b[0m\u001b[1;33m.\u001b[0m\u001b[0mnext\u001b[0m\u001b[1;33m(\u001b[0m\u001b[1;33m)\u001b[0m\u001b[1;33m\u001b[0m\u001b[0m\n\u001b[0m\u001b[0;32m    256\u001b[0m         \u001b[1;32mexcept\u001b[0m \u001b[0mStopIteration\u001b[0m\u001b[1;33m:\u001b[0m\u001b[1;33m\u001b[0m\u001b[0m\n\u001b[0;32m    257\u001b[0m             \u001b[1;32mraise\u001b[0m \u001b[0mValueError\u001b[0m\u001b[1;33m(\u001b[0m\u001b[1;34m'no BQL phrase in string'\u001b[0m\u001b[1;33m)\u001b[0m\u001b[1;33m\u001b[0m\u001b[0m\n",
      "\u001b[1;32m/usr/local/lib/python2.7/dist-packages/bayeslite/parse.pyc\u001b[0m in \u001b[0;36m<genexpr>\u001b[1;34m(***failed resolving arguments***)\u001b[0m\n\u001b[0;32m    102\u001b[0m \u001b[1;32mdef\u001b[0m \u001b[0mparse_bql_string\u001b[0m\u001b[1;33m(\u001b[0m\u001b[0mstring\u001b[0m\u001b[1;33m)\u001b[0m\u001b[1;33m:\u001b[0m\u001b[1;33m\u001b[0m\u001b[0m\n\u001b[0;32m    103\u001b[0m     \u001b[1;34m\"\"\"Yield each parsed BQL phrase AST in `string`.\"\"\"\u001b[0m\u001b[1;33m\u001b[0m\u001b[0m\n\u001b[1;32m--> 104\u001b[1;33m     \u001b[1;32mreturn\u001b[0m \u001b[1;33m(\u001b[0m\u001b[0mphrase\u001b[0m \u001b[1;32mfor\u001b[0m \u001b[0mphrase\u001b[0m\u001b[1;33m,\u001b[0m \u001b[0m_pos\u001b[0m \u001b[1;32min\u001b[0m \u001b[0mparse_bql_string_pos\u001b[0m\u001b[1;33m(\u001b[0m\u001b[0mstring\u001b[0m\u001b[1;33m)\u001b[0m\u001b[1;33m)\u001b[0m\u001b[1;33m\u001b[0m\u001b[0m\n\u001b[0m\u001b[0;32m    105\u001b[0m \u001b[1;33m\u001b[0m\u001b[0m\n\u001b[0;32m    106\u001b[0m \u001b[1;32mdef\u001b[0m \u001b[0mbql_string_complete_p\u001b[0m\u001b[1;33m(\u001b[0m\u001b[0mstring\u001b[0m\u001b[1;33m)\u001b[0m\u001b[1;33m:\u001b[0m\u001b[1;33m\u001b[0m\u001b[0m\n",
      "\u001b[1;32m/usr/local/lib/python2.7/dist-packages/bayeslite/parse.pyc\u001b[0m in \u001b[0;36m<genexpr>\u001b[1;34m(***failed resolving arguments***)\u001b[0m\n\u001b[0;32m     89\u001b[0m     \u001b[1;31m# XXX Don't dig out internals of scanner: fix plex to have a\u001b[0m\u001b[1;33m\u001b[0m\u001b[1;33m\u001b[0m\u001b[0m\n\u001b[0;32m     90\u001b[0m     \u001b[1;31m# public API for finding the current position.\u001b[0m\u001b[1;33m\u001b[0m\u001b[1;33m\u001b[0m\u001b[0m\n\u001b[1;32m---> 91\u001b[1;33m     \u001b[1;32mreturn\u001b[0m \u001b[1;33m(\u001b[0m\u001b[1;33m(\u001b[0m\u001b[0mphrase\u001b[0m\u001b[1;33m,\u001b[0m \u001b[0mscanner\u001b[0m\u001b[1;33m.\u001b[0m\u001b[0mcur_pos\u001b[0m\u001b[1;33m)\u001b[0m \u001b[1;32mfor\u001b[0m \u001b[0mphrase\u001b[0m \u001b[1;32min\u001b[0m \u001b[0mphrases\u001b[0m\u001b[1;33m)\u001b[0m\u001b[1;33m\u001b[0m\u001b[0m\n\u001b[0m\u001b[0;32m     92\u001b[0m \u001b[1;33m\u001b[0m\u001b[0m\n\u001b[0;32m     93\u001b[0m \u001b[1;32mdef\u001b[0m \u001b[0mparse_bql_string_pos_1\u001b[0m\u001b[1;33m(\u001b[0m\u001b[0mstring\u001b[0m\u001b[1;33m)\u001b[0m\u001b[1;33m:\u001b[0m\u001b[1;33m\u001b[0m\u001b[0m\n",
      "\u001b[1;32m/usr/local/lib/python2.7/dist-packages/bayeslite/parse.pyc\u001b[0m in \u001b[0;36mparse_bql_phrases\u001b[1;34m(scanner)\u001b[0m\n\u001b[0;32m     75\u001b[0m             \u001b[1;32mbreak\u001b[0m\u001b[1;33m\u001b[0m\u001b[0m\n\u001b[0;32m     76\u001b[0m     \u001b[1;32mif\u001b[0m \u001b[1;36m0\u001b[0m \u001b[1;33m<\u001b[0m \u001b[0mlen\u001b[0m\u001b[1;33m(\u001b[0m\u001b[0msemantics\u001b[0m\u001b[1;33m.\u001b[0m\u001b[0merrors\u001b[0m\u001b[1;33m)\u001b[0m\u001b[1;33m:\u001b[0m\u001b[1;33m\u001b[0m\u001b[0m\n\u001b[1;32m---> 77\u001b[1;33m         \u001b[1;32mraise\u001b[0m \u001b[0mBQLParseError\u001b[0m\u001b[1;33m(\u001b[0m\u001b[0msemantics\u001b[0m\u001b[1;33m.\u001b[0m\u001b[0merrors\u001b[0m\u001b[1;33m)\u001b[0m\u001b[1;33m\u001b[0m\u001b[0m\n\u001b[0m\u001b[0;32m     78\u001b[0m     \u001b[1;32mif\u001b[0m \u001b[0msemantics\u001b[0m\u001b[1;33m.\u001b[0m\u001b[0mfailed\u001b[0m\u001b[1;33m:\u001b[0m\u001b[1;33m\u001b[0m\u001b[0m\n\u001b[0;32m     79\u001b[0m         \u001b[1;32mraise\u001b[0m \u001b[0mBQLParseError\u001b[0m\u001b[1;33m(\u001b[0m\u001b[1;33m[\u001b[0m\u001b[1;34m'parse failed mysteriously!'\u001b[0m\u001b[1;33m]\u001b[0m\u001b[1;33m)\u001b[0m\u001b[1;33m\u001b[0m\u001b[0m\n",
      "\u001b[1;31mBQLParseError\u001b[0m: Parse errors:\n  syntax error near t3\n  If you would like to analyze your own data with BayesDB, please contact\n  bayesdb@mit.edu to participate in our research project.\n"
     ]
    }
   ],
   "source": [
    "bdb.execute('''\n",
    "    CREATE GENERATOR t3 FOR satellites USING composer(\n",
    "        default (\n",
    "            Country_of_Operator CATEGORICAL, Operator_Owner CATEGORICAL,\n",
    "            Users CATEGORICAL, Purpose CATEGORICAL,\n",
    "            Class_of_orbit CATEGORICAL, Perigee_km NUMERICAL,\n",
    "            Apogee_km NUMERICAL, Eccentricity NUMERICAL\n",
    "        ),\n",
    "        random_forest (\n",
    "            Apogee_km NUMERICAL GIVEN Operator_Owner\n",
    "        )\n",
    "    );''')"
   ]
  },
  {
   "cell_type": "code",
   "execution_count": 5,
   "metadata": {
    "collapsed": false
   },
   "outputs": [
    {
     "name": "stdout",
     "output_type": "stream",
     "text": [
      "8.32664164641e-07 4.4408920985e-17\n"
     ]
    }
   ],
   "source": [
    "# Leo Casarsa - Dec 21 2015\n",
    "# First test on how to compute mutual information between columns using the Composer class\n",
    "# Mutual information between columns that should give a high value in the satellites example is here low.\n",
    "\n",
    "# Using one model and 1000 samplees\n",
    "# \tMI('Country_of_Operator'; 'Operator_Owner') = 8.32664164641e-07\n",
    "# Using one model and 100 samples\n",
    "# \tMI('Operator_Owner';'Excentricity') = 4.4408920985e-17\n",
    "\n",
    "os.environ['BAYESDB_WIZARD_MODE'] = '1'\n",
    "\n",
    "# Use satellites for all tests.\n",
    "PATH_TESTS = os.path.dirname('/home/casarsa/Git/bdbcontrib/tests/test_composer.py')\n",
    "PATH_ROOT = os.path.dirname(PATH_TESTS)\n",
    "PATH_EXAMPLES = os.path.join(PATH_ROOT, 'examples')\n",
    "PATH_SATELLITES = os.path.join(PATH_EXAMPLES, 'satellites')\n",
    "PATH_SATELLITES_CSV = os.path.join(PATH_SATELLITES, 'satellites.csv')\n",
    "\n",
    "bdb = bayeslite.bayesdb_open()\n",
    "bayeslite.bayesdb_read_csv_file(bdb, 'satellites', PATH_SATELLITES_CSV,\n",
    "header=True, create=True)\n",
    "composer = Composer(n_samples=5)\n",
    "bayeslite.bayesdb_register_metamodel(bdb, composer)\n",
    "# Using crosscat and default to specify models should work.\n",
    "bdb.execute('''\n",
    "CREATE GENERATOR t1 FOR satellites USING composer(\n",
    "    default (\n",
    "        Country_of_Operator CATEGORICAL, Operator_Owner CATEGORICAL,\n",
    "        Users CATEGORICAL, Purpose CATEGORICAL,\n",
    "        Class_of_orbit CATEGORICAL, Perigee_km NUMERICAL,\n",
    "        Apogee_km NUMERICAL, Eccentricity NUMERICAL\n",
    "    ),\n",
    "    crosscat (\n",
    "        Anticipated_Lifetime NUMERICAL, Contractor CATEGORICAL\n",
    "    )\n",
    ");''')\n",
    "\n",
    "generator_id = bayeslite.core.bayesdb_get_generator(bdb, 't1')\n",
    "composer = bayeslite.core.bayesdb_generator_metamodel(bdb, generator_id)\n",
    "bdb.execute('INITIALIZE 1 MODELS FOR t1')\n",
    "\n",
    "c1 = bayeslite.core.bayesdb_table_column_number(bdb,'satellites','Country_of_Operator')\n",
    "c2 = bayeslite.core.bayesdb_table_column_number(bdb,'satellites','Operator_Owner')\n",
    "c3 = bayeslite.core.bayesdb_table_column_number(bdb,'satellites','Eccentricity')\n",
    "\n",
    "\n",
    "MI_first = composer.column_mutual_information(bdb, generator_id, 0, c1, c2, numsamples=1000)\n",
    "MI_second = composer.column_mutual_information(bdb, generator_id, 0, c2, c3, numsamples=100)\n",
    "\n",
    "print MI_first, MI_second"
   ]
  }
 ],
 "metadata": {
  "kernelspec": {
   "display_name": "Python 2",
   "language": "python",
   "name": "python2"
  },
  "language_info": {
   "codemirror_mode": {
    "name": "ipython",
    "version": 2
   },
   "file_extension": ".py",
   "mimetype": "text/x-python",
   "name": "python",
   "nbconvert_exporter": "python",
   "pygments_lexer": "ipython2",
   "version": "2.7.6"
  }
 },
 "nbformat": 4,
 "nbformat_minor": 0
}
