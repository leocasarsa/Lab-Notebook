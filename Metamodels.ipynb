{
 "cells": [
  {
   "cell_type": "markdown",
   "metadata": {},
   "source": [
    "## Code Snippet\n",
    "From bayeslite/metamodel.py\n",
    "\n",
    "### Done:\n",
    "* TrollMetamodel\n",
    "\n",
    "### Next Step:\n",
    "* NIGnormal\n",
    "* Dirichlet-Multinomial\n",
    "* Constrained NIGnormal"
   ]
  },
  {
   "cell_type": "markdown",
   "metadata": {},
   "source": [
    "## Preamble"
   ]
  },
  {
   "cell_type": "code",
   "execution_count": null,
   "metadata": {
    "collapsed": true
   },
   "outputs": [],
   "source": [
    "from abc import ABCMeta, abstractmethod\n",
    "\n",
    "def check_data(data):\n",
    "    \"\"\"Check whether data is of proper format (numpy array for now)\"\"\"\n",
    "    print(\"Data check has not been implemented yet\")\n",
    "    \n",
    "def check_typespec_dict(typespec):\n",
    "    \"\"\"Check whether typespec is a dict mapping variable names to type specs.\"\"\"\n",
    "    print(\"Typespec check has not been implemented yet\")"
   ]
  },
  {
   "cell_type": "markdown",
   "metadata": {},
   "source": [
    "## MyMetamodel\n",
    "Abstract Base Class for implementing metamodels"
   ]
  },
  {
   "cell_type": "code",
   "execution_count": 19,
   "metadata": {
    "collapsed": false
   },
   "outputs": [],
   "source": [
    "from abc import ABCMeta, abstractmethod\n",
    "\n",
    "def check_data(data):\n",
    "    \"\"\"Check whether data is of proper format (numpy array for now)\"\"\"\n",
    "    print(\"Data check has not been implemented yet\")\n",
    "    \n",
    "def check_typespec_dict(typespec):\n",
    "    \"\"\"Check whether typespec is a dict mapping variable names to type specs.\"\"\"\n",
    "    print(\"Typespec check has not been implemented yet\")\n",
    "\n",
    "\n",
    "class MyMetamodel(object):\n",
    "    \"\"\"Metamodel interface.\n",
    "    \n",
    "    Subclasses of :class:'MyMetamodel' implement the functionality needed to\n",
    "    sample from and inquire about the posterior distribution of a generative\n",
    "    model conditioned on data in a table.\n",
    "    \"\"\"\n",
    "    __metaclass__ = ABCMeta\n",
    "    \n",
    "    @abstractmethod\n",
    "    def __init__ (self, data, typespec):\n",
    "        check_data(data)\n",
    "        check_typespec_dict(typespec)\n",
    "        \n",
    "        self.typespec = typespec\n",
    "        self.data = data\n",
    "        \n",
    "    @abstractmethod\n",
    "    def name(self):\n",
    "        \"\"\"Return the name of the metamodel as a str\"\"\"\n",
    "        raise NotImplementedError\n",
    "    \n",
    "    @abstractmethod\n",
    "    def infer(self):\n",
    "        \"\"\"Predict a value for each missing value.\"\"\"\n",
    "        raise NotImplementedError\n",
    "    \n",
    "    @abstractmethod\n",
    "    def predict(self, colno, threshold, numsamples=None):\n",
    "        \"\"\"Predict a value for a column, if confidence is high enough.\"\"\"\n",
    "        value, confidence = self.predict_confidence(self, colno, numsamples=numsamples)\n",
    "        if confidence < threshold:\n",
    "            return float('nan')\n",
    "        return value\n",
    "    \n",
    "    @abstractmethod\n",
    "    def predict_confidence(self, colno, numsamples=None):\n",
    "        \"\"\"Predict a value for a column and return confidence\"\"\"\n",
    "        raise NotImplementedError\n",
    "        \n",
    "    @abstractmethod    \n",
    "    def simulate(self, colnos, constraints, numpredictions=1):\n",
    "        \"\"\"Simulate 'colnos' from a generator, subject to 'constraints'.\n",
    "        \n",
    "        Returns a list of rows with values for the specified columns.\n",
    "        \n",
    "        'colnos'         - list of column numbers.\n",
    "        'constraints'    - list of ''(colno, value)'' pairs.\n",
    "        'numpredictions' - number of results to return.\n",
    "        \"\"\" \n",
    "        raise NotImplementedError\n",
    "    \n",
    "    @abstractmethod\n",
    "    def estimate(self, colno0, colno1):\n",
    "        \"\"\"Compute Dependence Probability of <col0> with <col1>\"\"\"\n",
    "        raise NotImplementedError\n",
    "    \n",
    "    @abstractmethod\n",
    "    def logpdf(self, target, constraints):\n",
    "        \"\"\"Compute (predictive?) logpdf.\n",
    "        \n",
    "                'constraints'    - list of ''(colno, value)'' pairs.\n",
    "                'targets'        - list of ''(colno, value)'' pairs.\n",
    "        \"\"\"\n",
    "        raise NotImplementedError\n",
    "        \n",
    "    @abstractmethod\n",
    "    def column_mutual_information(self, colno0, colno1, numsamples=100):\n",
    "        \"\"\"Compute ``MUTUAL INFORMATION OF <col0> WITH <col1>``.\"\"\"\n",
    "        raise NotImplementedError"
   ]
  },
  {
   "cell_type": "markdown",
   "metadata": {},
   "source": [
    "## TrollMetamodel\n",
    "Simplest possible model to check whether the structure works."
   ]
  },
  {
   "cell_type": "code",
   "execution_count": 20,
   "metadata": {
    "collapsed": false
   },
   "outputs": [],
   "source": [
    "class TrollMetamodel(MyMetamodel):\n",
    "    \"\"\"Troll metamodel for MyMetamodel.\n",
    "\n",
    "    The metamodel is named ``troll_rng``.\n",
    "    \n",
    "    Class Methods:\n",
    "        __init__(self,data,typespec)\n",
    "        name(self)\n",
    "        infer(self, threshold, numsamples=None)\n",
    "        predict(self, colno, threshold, numsamples=None)\n",
    "        predict_confidence(self, colno, numsamples=None)\n",
    "        simulate(self, colnos, constraints, numpredictions=1)\n",
    "        estimate(self, colno0, colno1)\n",
    "        column_mutual_information(self, colno0, colno1, numsamples=None)\n",
    "        logpdf(self, targets, constraints)\n",
    "    \"\"\"\n",
    "\n",
    "    def __init__(self,data,typespec): \n",
    "        super(TrollMetamodel, self).__init__(data,typespec)\n",
    "    \n",
    "    def name(self): return 'troll_rng'\n",
    "  \n",
    "    def infer(self, threshold=1, numsamples=None):\n",
    "        nanrows, nancols = np.where(np.isnan(self.data))\n",
    "        for i in np.arange(nancols.size):\n",
    "            prediction = self.predict(nancols[i], threshold, numsamples)\n",
    "            self.data[nanrows[i],nancols[i]] = prediction\n",
    "    \n",
    "    def predict(self, colno, threshold, numsamples=None):\n",
    "        super(TrollMetamodel,self).predict(colno,threshold,numsamples=None)\n",
    "    \n",
    "    def predict_confidence(self, colno, numsamples=None):\n",
    "        value = 9.\n",
    "        confidence = 1.\n",
    "        return value, confidence\n",
    "        \n",
    "    def simulate(self, colnos, constraints=[], numpredictions=1):\n",
    "        # check_col(colnos)\n",
    "        # check_col([i for i,_ in constraints])\n",
    "        for (_, value) in constraints:\n",
    "            if not value == 9:\n",
    "                return float(\"nan\")\n",
    "        header = [colnos]\n",
    "        X = np.array([[9. for _ in colnos] for _ in np.arange(numpredictions)])\n",
    "        return header, X\n",
    "    \n",
    "    def estimate(self, colno0, colno1):\n",
    "        # check_col(colno0, colno1)\n",
    "        dep_prob = 0\n",
    "        return dep_prob\n",
    "    \n",
    "    def column_mutual_information(self, colno0, colno1, numsamples=None):\n",
    "        mutual_info = 0   \n",
    "        return mutual_info\n",
    "    \n",
    "    def logpdf(self, targets, constraints):\n",
    "        for (_, value) in constraints:\n",
    "            if not value == 9:\n",
    "                return float(\"nan\")\n",
    "        for (_, value) in targets:\n",
    "            if not value == 9:\n",
    "                return float(\"-inf\")\n",
    "            \n",
    "        '''Recheck this later'''\n",
    "        return 0\n",
    "    \n",
    "    '''TODO: Rewrite or import docstrings'''\n"
   ]
  },
  {
   "cell_type": "code",
   "execution_count": 21,
   "metadata": {
    "collapsed": false
   },
   "outputs": [
    {
     "name": "stdout",
     "output_type": "stream",
     "text": [
      "Data check has not been implemented yet\n",
      "Typespec check has not been implemented yet\n"
     ]
    }
   ],
   "source": [
    "# import numpy as np\n",
    "# from TrollMetamodel import *\n",
    "\n",
    "X = np.tile(9., [10,5])\n",
    "for [i,j] in [[0,0],[0,2],[1,3],[3,4],[4,4],[5,1]]:\n",
    "    X[i][j] = float('nan')\n",
    "    \n",
    "troll = TrollMetamodel(X,'standard')"
   ]
  },
  {
   "cell_type": "code",
   "execution_count": 38,
   "metadata": {
    "collapsed": false
   },
   "outputs": [
    {
     "data": {
      "text/plain": [
       "inf"
      ]
     },
     "execution_count": 38,
     "metadata": {},
     "output_type": "execute_result"
    }
   ],
   "source": [
    "a,b= [float('inf') ,float('inf')]\n",
    "(a +\n",
    "     b)"
   ]
  },
  {
   "cell_type": "markdown",
   "metadata": {},
   "source": [
    "## NIGNormalMetamodel\n",
    "Metamodel for independent numerical variables, using a Normal-Inverse-Gamma prior for each column."
   ]
  },
  {
   "cell_type": "code",
   "execution_count": null,
   "metadata": {
    "collapsed": false
   },
   "outputs": [],
   "source": [
    "targets = [(1,2),(3,5),(7,8)]\n",
    "target_colnos = np.array([col for (col,_) in targets])"
   ]
  },
  {
   "cell_type": "code",
   "execution_count": null,
   "metadata": {
    "collapsed": false
   },
   "outputs": [],
   "source": [
    "X = dict('M':1)"
   ]
  },
  {
   "cell_type": "code",
   "execution_count": null,
   "metadata": {
    "collapsed": false
   },
   "outputs": [],
   "source": [
    "import math\n",
    "\n",
    "default_data_parameters = dict(\n",
    "    multinomial=dict(weights=[1.0/5.0]*5),\n",
    "    continuous=dict(mu=0.0, rho=1.0),\n",
    "    cyclic=dict(mu=math.pi, kappa=2.0)\n",
    "    )\n",
    "\n",
    "default_data_parameters"
   ]
  }
 ],
 "metadata": {
  "kernelspec": {
   "display_name": "Python 2",
   "language": "python",
   "name": "python2"
  },
  "language_info": {
   "codemirror_mode": {
    "name": "ipython",
    "version": 2
   },
   "file_extension": ".py",
   "mimetype": "text/x-python",
   "name": "python",
   "nbconvert_exporter": "python",
   "pygments_lexer": "ipython2",
   "version": "2.7.6"
  }
 },
 "nbformat": 4,
 "nbformat_minor": 0
}
