{
 "cells": [
  {
   "cell_type": "code",
   "execution_count": null,
   "metadata": {
    "collapsed": true
   },
   "outputs": [],
   "source": [
    "def check_model_params_dict(params):\n",
    "    if type(params) is not dict:\n",
    "        raise TypeError(\"params should be a dict\")\n",
    "\n",
    "    keys = ['mu', 'rho']\n",
    "\n",
    "    for key in keys:\n",
    "        if key not in params.keys():\n",
    "            raise KeyError(\"missing key in params: %s\" % key)\n",
    "\n",
    "    for key, value in params.iteritems():\n",
    "        if key not in keys:\n",
    "            raise KeyError(\"invalid params key: %s\" % key)\n",
    "\n",
    "        if type(value) is not float \\\n",
    "        and type(value) is not numpy.float64:\n",
    "            raise TypeError(\"%s should be float\" % key)\n",
    "\n",
    "        if key == \"rho\":\n",
    "            if value <= 0.0:\n",
    "                raise ValueError(\"rho should be greater than 0\")\n",
    "        elif key != \"mu\":\n",
    "            raise KeyError(\"Invalid params key: %s\" % key)\n",
    "\n",
    "def generate_data_from_parameters(params, N, gen_seed=0):\n",
    "    \"\"\"\n",
    "    Generates data from a gaussian distribution\n",
    "    Inputs:\n",
    "        params: a dict with entries 'mu' and 'rho'\n",
    "        N: number of data points\n",
    "    \"\"\"\n",
    "    if type(N) is not int:\n",
    "        raise TypeError(\"N should be an int\")\n",
    "\n",
    "    if N <= 0:\n",
    "        raise ValueError(\"N should be greater than 0\")\n",
    "\n",
    "    check_model_params_dict(params)\n",
    "\n",
    "    mu = params['mu']\n",
    "    sigma = (1.0/params['rho'])**.5\n",
    "\n",
    "    X = numpy.array([[random.normalvariate(mu, sigma)] for i in range(N)])\n",
    "\n",
    "    assert len(X) == N\n"
   ]
  },
  {
   "cell_type": "code",
   "execution_count": null,
   "metadata": {
    "collapsed": true
   },
   "outputs": [],
   "source": []
  },
  {
   "cell_type": "code",
   "execution_count": null,
   "metadata": {
    "collapsed": true
   },
   "outputs": [],
   "source": []
  }
 ],
 "metadata": {
  "kernelspec": {
   "display_name": "Python 2",
   "language": "python",
   "name": "python2"
  },
  "language_info": {
   "codemirror_mode": {
    "name": "ipython",
    "version": 2
   },
   "file_extension": ".py",
   "mimetype": "text/x-python",
   "name": "python",
   "nbconvert_exporter": "python",
   "pygments_lexer": "ipython2",
   "version": "2.7.6"
  }
 },
 "nbformat": 4,
 "nbformat_minor": 0
}
