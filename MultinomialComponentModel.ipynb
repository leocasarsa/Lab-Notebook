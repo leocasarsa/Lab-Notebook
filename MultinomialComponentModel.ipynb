{
 "cells": [
  {
   "cell_type": "markdown",
   "metadata": {},
   "source": [
    "## Code Snippets\n",
    "From crosscat/tests/component_model_extensions/MultinomialComponentModel.py"
   ]
  },
  {
   "cell_type": "code",
   "execution_count": 15,
   "metadata": {
    "collapsed": true
   },
   "outputs": [],
   "source": [
    "import math\n",
    "import random\n",
    "import numpy"
   ]
  },
  {
   "cell_type": "code",
   "execution_count": 22,
   "metadata": {
    "collapsed": true
   },
   "outputs": [],
   "source": [
    "example_data_parameters = dict(weights=(numpy.ones(7)/7.).tolist())\n",
    "example_hyperparams = dict(dirichlet_alpha=.5, K = 7)"
   ]
  },
  {
   "cell_type": "code",
   "execution_count": 27,
   "metadata": {
    "collapsed": true
   },
   "outputs": [],
   "source": [
    "def counts_to_data(counts):\n",
    "    \"\"\"\n",
    "    Converts a vector of counts to data.\n",
    "    \"\"\"\n",
    "    assert type(counts) is list or type(counts) is numpy.ndarray\n",
    "    K = len(counts)\n",
    "    N = int(sum(counts))\n",
    "    X = []\n",
    "    for k in range(K):\n",
    "        i = 0\n",
    "        while i < counts[k]:\n",
    "            X.append([k])\n",
    "            i += 1\n",
    "\n",
    "        assert i == counts[k]\n",
    "\n",
    "    assert len(X) == N\n",
    "\n",
    "    random.shuffle(X)\n",
    "    X = numpy.array(X, dtype=float)\n",
    "\n",
    "    return X\n",
    "\n",
    "def check_model_parameters_dict(params):\n",
    "\n",
    "    if type(params) is not dict:\n",
    "        raise TypeError(\"params should be a dict\")\n",
    "\n",
    "    keys = ['weights']\n",
    "\n",
    "    for key in keys:\n",
    "        if key not in params.keys():\n",
    "            raise KeyError(\"model_parameters_dict should have key %s\" % key)\n",
    "\n",
    "    for key, value in params.iteritems():\n",
    "        if key == \"weights\":\n",
    "            if type(value) is not list:\n",
    "                raise TypeError(\"model parameters dict key 'weights' should be a list\")\n",
    "            if type(value[0]) is list:\n",
    "                raise TypeError(\"weights should not be a list of lists, should be a list of floats\")\n",
    "            if math.fabs(sum(value) - 1.0) > .00000001:\n",
    "                raise ValueError(\"model parameters dict key 'weights' should sum to 1.0\")\n",
    "        else:\n",
    "            raise KeyError(\"invalid key, %s, for model parameters dict\" % key)\n",
    "            \n",
    "def check_hyperparameters_dict(hyperparameters_dict):\n",
    "    \n",
    "    # 'fixed' key is not necessary for user-defined hyperparameters\n",
    "    keys = ['dirichlet_alpha', 'K']\n",
    "\n",
    "    for key in keys:\n",
    "        if key not in hyperparameters_dict.keys():\n",
    "            raise KeyError(\"hyperparameters_dict should have key %s\" % key)\n",
    "\n",
    "    for key, value in hyperparameters_dict.iteritems():\n",
    "        if key == \"K\":\n",
    "            if type(value) is not int:\n",
    "                raise TypeError(\"hyperparameters dict entry K should be an int\")\n",
    "\n",
    "            if value < 1:\n",
    "                raise ValueError(\"hyperparameters dict entry K should be greater than 0\")\n",
    "        elif key == \"dirichlet_alpha\":\n",
    "            if type(value) is not float \\\n",
    "            and type(value) is not numpy.float64 \\\n",
    "            and type(value) is not int:\n",
    "                raise TypeError(\"hyperparameters dict entry dirichlet_alpha should be a float or int\")\n",
    "\n",
    "            if value <= 0.0:\n",
    "                raise ValueError(\"hyperparameters dict entry dirichlet_alpha should be greater than 0\")\n",
    "\n",
    "        elif key == \"fixed\":\n",
    "            pass\n",
    "        else:\n",
    "            raise KeyError(\"invalid key, %s, for hyperparameters dict\" % key)\n",
    "\n",
    "def check_data_vs_k(X,K):\n",
    "    if type(X) is numpy.ndarray:\n",
    "        X = X.flatten(1)\n",
    "        X = X.tolist()\n",
    "    K_data = len(set(X))\n",
    "    if K_data > K:\n",
    "        raise ValueError(\"the number of items in the data is greater than K\")            "
   ]
  },
  {
   "cell_type": "code",
   "execution_count": 28,
   "metadata": {
    "collapsed": true
   },
   "outputs": [],
   "source": [
    "def generate_data_from_parameters(params, N, gen_seed=0):\n",
    "    \"\"\"\n",
    "    returns a set of intervals over which the component model pdf is \n",
    "    supported. \n",
    "    Inputs:\n",
    "        params: a dict with entries 'weights'\n",
    "        N: number of data points\n",
    "    \"\"\"\n",
    "    if type(N) is not int:\n",
    "        raise TypeError(\"N should be an int\")\n",
    "\n",
    "    if N <= 0:\n",
    "        raise ValueError(\"N should be greater than 0\")\n",
    "\n",
    "    if type(params) is not dict:\n",
    "        raise TypeError(\"params should be a dict\")\n",
    "\n",
    "    check_model_parameters_dict(params)\n",
    "\n",
    "    # multinomial draw\n",
    "    counts = numpy.array(numpy.random.multinomial(N, params['weights']), dtype=int)\n",
    "\n",
    "    X = counts_to_data(counts)\n",
    "\n",
    "    assert len(X) == N\n",
    "\n",
    "    return X\n",
    "\n",
    "def sample_parameters_given_hyper(hypers, gen_seed=0):\n",
    "    \"\"\"\n",
    "    Samples weights given the current hyperparameters\n",
    "    Inputs:\n",
    "        gen_seed: integer used to seed the rng\n",
    "    \"\"\"\n",
    "    if type(gen_seed) is not int:\n",
    "        raise TypeError(\"gen_seed should be an int\")\n",
    "\n",
    "    random.seed(gen_seed)\n",
    "    numpy.random.seed(gen_seed)\n",
    "\n",
    "    dirichlet_alpha = hypers['dirichlet_alpha']\n",
    "    K = hypers['K']\n",
    "\n",
    "    alpha = numpy.array([dirichlet_alpha]*int(K))\n",
    "\n",
    "    weights = numpy.random.dirichlet(alpha)\n",
    "    weights = weights.tolist()\n",
    "\n",
    "    params = {'weights': weights}\n",
    "\n",
    "    return params"
   ]
  },
  {
   "cell_type": "code",
   "execution_count": 23,
   "metadata": {
    "collapsed": false
   },
   "outputs": [],
   "source": [
    "check_model_parameters_dict(example_data_parameters)\n",
    "check_hyperparameters_dict(example_hyperparams)"
   ]
  },
  {
   "cell_type": "code",
   "execution_count": 29,
   "metadata": {
    "collapsed": false
   },
   "outputs": [
    {
     "data": {
      "text/plain": [
       "{'weights': [0.13413503453963307,\n",
       "  0.1669051803480647,\n",
       "  0.07919362146775934,\n",
       "  0.08448803005892792,\n",
       "  0.38811048820902566,\n",
       "  0.14494114049910156,\n",
       "  0.0022265048774877667]}"
      ]
     },
     "execution_count": 29,
     "metadata": {},
     "output_type": "execute_result"
    }
   ],
   "source": [
    "generate_data_from_parameters(example_data_parameters,10)\n",
    "sample_parameters_given_hyper(example_hyperparams)"
   ]
  }
 ],
 "metadata": {
  "kernelspec": {
   "display_name": "Python 2",
   "language": "python",
   "name": "python2"
  },
  "language_info": {
   "codemirror_mode": {
    "name": "ipython",
    "version": 2
   },
   "file_extension": ".py",
   "mimetype": "text/x-python",
   "name": "python",
   "nbconvert_exporter": "python",
   "pygments_lexer": "ipython2",
   "version": "2.7.6"
  }
 },
 "nbformat": 4,
 "nbformat_minor": 0
}
