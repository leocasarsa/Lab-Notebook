{
 "cells": [
  {
   "cell_type": "markdown",
   "metadata": {},
   "source": [
    "# Task\n",
    "\n",
    "A. What about latent interventions? i.e. when/how can you rule them out? A candidate intervention variable might have parents of its own.\n",
    "\n",
    "B. You should implement CMI using bayeslite (asking Feras Saad --- whom you should set up a Skype with; he's a student of mine whom I think you'll get along with --- for pointers). This will require you to make some use of bayeslite internals.\n",
    "\n",
    "If the bayeslite part proves too hard, you could split it into two parts: first implementing CMI in terms of an abstract simulate/logpdf interface, and then implementing that interface using bayeslite.\n",
    "\n",
    "Include some tests on a synthetic network where you can see how marginal and conditional dependencies might be very different in strength, e.g. a case where two variables are typically generated independently but in some small fraction of cases are generated with a very strong dependence. You should be able to show the CMI estimates here, as well as a scatterplot.\n",
    "\n",
    "C. Use this CMI measure to describe the signature of experimental designs where there is:\n",
    "\n",
    "- perfect randomization wrt some target variables\n",
    "- imperfect randomization wrt those same variables, i.e. the randomization intervention is soft\n",
    "- control of some target variables\n",
    "- imperfect control\n",
    "\n",
    "D. Implement and test your scheme (ideally using your general infrastructure from B, but a special-purpose implementation is also fine as a stepping stone) on some synthetic test cases. Modify to test what happens when you use bayeslite to estimate the generator, rather than assuming bayeslite has been given the true generator.\n",
    "\n",
    "E. Come up with 3 real-world scenarios where the ability to identify soft interventions (and to distinguish hard from soft interventions) directly addresses causal inference questions that are difficult to address w/ standard approaches --- assuming you have an emulator of the true generator.\n",
    "\n",
    "F. Propose test cases to explore how the picture from E changes when you are using bayeslite to produce emulators for the generator,i.e. inferring it from data. Can you detect imperfect randomization? \n",
    "\n",
    "## Questions\n",
    "- What should the definition of an intervention be, if interventions can be latent and have parents?\n",
    "- CMI should compute the empirical conditional mutual information,i.e., without access to the true data generator, right?\n",
    "- The synthetic network should have only two nodes?\n",
    "- What is control and imperfect control? (Check the definition of perfect/imperfect intervention)\n",
    "- Soft vs Hard intervention = perfect vs imperfect randomization, i.e., selection bias?\n",
    "- (E) Is neurofeedback a good example?"
   ]
  }
 ],
 "metadata": {
  "kernelspec": {
   "display_name": "Python 2",
   "language": "python",
   "name": "python2"
  },
  "language_info": {
   "codemirror_mode": {
    "name": "ipython",
    "version": 2
   },
   "file_extension": ".py",
   "mimetype": "text/x-python",
   "name": "python",
   "nbconvert_exporter": "python",
   "pygments_lexer": "ipython2",
   "version": "2.7.6"
  }
 },
 "nbformat": 4,
 "nbformat_minor": 0
}
