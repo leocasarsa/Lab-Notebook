{
 "cells": [
  {
   "cell_type": "code",
   "execution_count": 3,
   "metadata": {
    "collapsed": false
   },
   "outputs": [
    {
     "ename": "ImportError",
     "evalue": "No module named Metamodel",
     "output_type": "error",
     "traceback": [
      "\u001b[1;31m---------------------------------------------------------------------------\u001b[0m",
      "\u001b[1;31mImportError\u001b[0m                               Traceback (most recent call last)",
      "\u001b[1;32m<ipython-input-3-c80ff78e25d4>\u001b[0m in \u001b[0;36m<module>\u001b[1;34m()\u001b[0m\n\u001b[1;32m----> 1\u001b[1;33m \u001b[1;32mimport\u001b[0m \u001b[0mMetamodel\u001b[0m\u001b[1;33m\u001b[0m\u001b[0m\n\u001b[0m\u001b[0;32m      2\u001b[0m \u001b[1;33m\u001b[0m\u001b[0m\n\u001b[0;32m      3\u001b[0m \u001b[1;32mclass\u001b[0m \u001b[0mTrollMetamodel\u001b[0m\u001b[1;33m(\u001b[0m\u001b[0mMyMetamodel\u001b[0m\u001b[1;33m)\u001b[0m\u001b[1;33m:\u001b[0m\u001b[1;33m\u001b[0m\u001b[0m\n\u001b[0;32m      4\u001b[0m     \"\"\"Troll metamodel for MyMetamodel.\n\u001b[0;32m      5\u001b[0m \u001b[1;33m\u001b[0m\u001b[0m\n",
      "\u001b[1;31mImportError\u001b[0m: No module named Metamodel"
     ]
    }
   ],
   "source": [
    "class TrollMetamodel(MyMetamodel):\n",
    "    \"\"\"Troll metamodel for MyMetamodel.\n",
    "\n",
    "    The metamodel is named ``troll_rng``.\n",
    "    \n",
    "    Class Methods:\n",
    "        __init__(self,data,typespec)\n",
    "        name(self)\n",
    "        infer(self, threshold, numsamples=None)\n",
    "        predict(self, colno, threshold, numsamples=None)\n",
    "        predict_confidence(self, colno, numsamples=None)\n",
    "        simulate(self, colnos, constraints, numpredictions=1)\n",
    "        estimate(self, colno0, colno1)\n",
    "        column_mutual_information(self, colno0, colno1, numsamples=None)\n",
    "        logpdf(self, targets, constraints)\n",
    "    \"\"\"\n",
    "\n",
    "    def __init__(self,data,typespec): \n",
    "        super(TrollMetamodel, self).__init__(data,typespec)\n",
    "    \n",
    "    def name(self): return 'troll_rng'\n",
    "  \n",
    "    def infer(self, threshold, numsamples=None):\n",
    "        nanrows, nancols = numpy.where(numpy.isnan(self.data))\n",
    "        for i in numpy.arange(nancols.size):\n",
    "            prediction = self.predict(nancols[i], threshold, numsamples)\n",
    "            self.data[nanrows[i],nancols[i]] = prediction\n",
    "    \n",
    "    def predict(self, colno, threshold, numsamples=None):\n",
    "        super(TrollMetamodel,self).predict(colno,threshold,numsamples=None)\n",
    "    \n",
    "    def predict_confidence(self, colno, numsamples=None):\n",
    "        value = 9.\n",
    "        confidence = 1.\n",
    "        return value, confidence\n",
    "        \n",
    "    def simulate(self, colnos, constraints, numpredictions=1):\n",
    "        # check_col(colnos)\n",
    "        # check_col([i for i,_ in constraints])\n",
    "        for (_, value) in constraints:\n",
    "            if not value == 9:\n",
    "                return float(\"nan\")\n",
    "        header = [colnos]\n",
    "        X = numpy.array([[9. for _ in colnos] for _ in numpy.arange(numpredictions)])\n",
    "        return header, X\n",
    "    \n",
    "    def estimate(self, colno0, colno1):\n",
    "        # check_col(colno0, colno1)\n",
    "        dep_prob = 0\n",
    "        return dep_prob\n",
    "    \n",
    "    def column_mutual_information(self, colno0, colno1, numsamples=None):\n",
    "        mutual_info = 0   \n",
    "        return mutual_info\n",
    "    \n",
    "    def logpdf(self, targets, constraints):\n",
    "        for (_, value) in constraints:\n",
    "            if not value == 9:\n",
    "                return float(\"nan\")\n",
    "        for (_, value) in targets:\n",
    "            if not value == 9:\n",
    "                return float(\"-inf\")\n",
    "            \n",
    "        '''Recheck this later'''\n",
    "        return 0\n",
    "    \n",
    "    '''TODO: Rewrite or import docstrings'''"
   ]
  }
 ],
 "metadata": {
  "kernelspec": {
   "display_name": "Python 2",
   "language": "python",
   "name": "python2"
  },
  "language_info": {
   "codemirror_mode": {
    "name": "ipython",
    "version": 2
   },
   "file_extension": ".py",
   "mimetype": "text/x-python",
   "name": "python",
   "nbconvert_exporter": "python",
   "pygments_lexer": "ipython2",
   "version": "2.7.6"
  }
 },
 "nbformat": 4,
 "nbformat_minor": 0
}
