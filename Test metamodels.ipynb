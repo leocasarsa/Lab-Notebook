{
 "cells": [
  {
   "cell_type": "markdown",
   "metadata": {},
   "source": [
    "## Test Models"
   ]
  },
  {
   "cell_type": "markdown",
   "metadata": {},
   "source": [
    "### TODO:\n",
    "* ```SIMULATE``` should return a column array (add ```transpose()```)"
   ]
  },
  {
   "cell_type": "markdown",
   "metadata": {},
   "source": [
    "### Troll Metamodel"
   ]
  },
  {
   "cell_type": "code",
   "execution_count": 8,
   "metadata": {
    "collapsed": false
   },
   "outputs": [
    {
     "name": "stdout",
     "output_type": "stream",
     "text": [
      "Data check has not been implemented yet\n",
      "Typespec check has not been implemented yet\n",
      "[[ nan   9.  nan   9.   9.]\n",
      " [  9.   9.   9.  nan   9.]\n",
      " [  9.   9.   9.   9.   9.]\n",
      " [  9.   9.   9.   9.  nan]\n",
      " [  9.   9.   9.   9.  nan]\n",
      " [  9.  nan   9.   9.   9.]\n",
      " [  9.   9.   9.   9.   9.]\n",
      " [  9.   9.   9.   9.   9.]\n",
      " [  9.   9.   9.   9.   9.]\n",
      " [  9.   9.   9.   9.   9.]]\n"
     ]
    }
   ],
   "source": [
    "from TrollMetamodel import *\n",
    "import numpy as np\n",
    "\n",
    "X = np.tile(9., [10,5])\n",
    "for [i,j] in [[0,0],[0,2],[1,3],[3,4],[4,4],[5,1]]:\n",
    "    X[i][j] = float('nan')\n",
    "\n",
    "test = TrollMetamodel(X,'standard')\n",
    "\n",
    "# print(test.simulate([1,2,3]))\n",
    "\n",
    "# print(test.estimate(1,2))\n",
    "\n",
    "# print(np.where(np.isnan(test.data)))\n",
    "\n",
    "troll.infer()\n",
    "\n",
    "print(test.data)"
   ]
  },
  {
   "cell_type": "markdown",
   "metadata": {},
   "source": [
    "### NIGNormal Metamodel"
   ]
  },
  {
   "cell_type": "code",
   "execution_count": 1,
   "metadata": {
    "collapsed": false
   },
   "outputs": [
    {
     "name": "stdout",
     "output_type": "stream",
     "text": [
      "Data check has not been implemented yet\n",
      "Typespec check has not been implemented yet\n",
      "Constraints check was not implemented yet\n",
      "([1, 2, 3], array([ 18.50065219,  14.5224099 ,  14.59332526,   1.22018276,\n",
      "        22.28059207,   5.61929848,  11.65699404,  14.20268386,\n",
      "        15.56119482,  17.97298759,  11.99462143,   7.35933945,\n",
      "        13.75253965,   8.27211374,  14.5922155 ,  11.23446555,\n",
      "        14.62231656,   6.2154243 ,   5.45792429,  -2.57768484,\n",
      "        19.61396684,   7.20008221,  -1.16928855,  -6.59732333,\n",
      "        -7.45381294,  19.58319561,  23.97769178,   7.38503964,\n",
      "        12.53269912,   8.8670207 ]))\n",
      "Single Column check was not implemented yet\n",
      "Single Column check was not implemented yet\n",
      "Single Column check was not implemented yet\n",
      "Single Column check was not implemented yet\n",
      "Single Column check was not implemented yet\n",
      "Single Column check was not implemented yet\n",
      "[[ 8.1  9.   8.1  9.   9. ]\n",
      " [ 9.   9.   9.   8.1  9. ]\n",
      " [ 9.   9.   9.   9.   9. ]\n",
      " [ 9.   9.   9.   9.   8. ]\n",
      " [ 9.   9.   9.   9.   8. ]\n",
      " [ 9.   8.1  9.   9.   9. ]\n",
      " [ 9.   9.   9.   9.   9. ]\n",
      " [ 9.   9.   9.   9.   9. ]\n",
      " [ 9.   9.   9.   9.   9. ]\n",
      " [ 9.   9.   9.   9.   9. ]]\n",
      "0\n"
     ]
    }
   ],
   "source": [
    "from NIGNormalMetamodel import *\n",
    "\n",
    "X = np.tile(9., [10,5])\n",
    "for [i,j] in [[0,0],[0,2],[1,3],[3,4],[4,4],[5,1]]:\n",
    "    X[i][j] = float('nan')\n",
    "\n",
    "test = NIGNormalMetamodel(X,'standard')\n",
    "\n",
    "print(test.simulate([1,2,3],numpredictions=10))\n",
    "\n",
    "test.infer()\n",
    "print(test.data)\n",
    "\n",
    "print(test.estimate(1,2))"
   ]
  },
  {
   "cell_type": "markdown",
   "metadata": {},
   "source": [
    "### Constrained NIGNormal Metamodel"
   ]
  },
  {
   "cell_type": "code",
   "execution_count": 1,
   "metadata": {
    "collapsed": false
   },
   "outputs": [
    {
     "name": "stdout",
     "output_type": "stream",
     "text": [
      "Data check has not been implemented yet\n",
      "Typespec check has not been implemented yet\n",
      "Single Column check was not implemented yet\n",
      "Single Column check was not implemented yet\n",
      "Single Column check was not implemented yet\n",
      "Single Column check was not implemented yet\n",
      "Single Column check was not implemented yet\n",
      "Single Column check was not implemented yet\n",
      "[[ 8.  9.  8.  9.  9.]\n",
      " [ 9.  9.  9.  8.  9.]\n",
      " [ 9.  9.  9.  9.  9.]\n",
      " [ 9.  9.  9.  9.  8.]\n",
      " [ 9.  9.  9.  9.  8.]\n",
      " [ 9.  8.  9.  9.  9.]\n",
      " [ 9.  9.  9.  9.  9.]\n",
      " [ 9.  9.  9.  9.  9.]\n",
      " [ 9.  9.  9.  9.  9.]\n",
      " [ 9.  9.  9.  9.  9.]]\n",
      "Data check has not been implemented yet\n",
      "Typespec check has not been implemented yet\n",
      "Single Column check was not implemented yet\n",
      "Single Column check was not implemented yet\n",
      "Single Column check was not implemented yet\n",
      "Single Column check was not implemented yet\n",
      "Single Column check was not implemented yet\n",
      "Single Column check was not implemented yet\n",
      "[[ 8.  9.  8.  9.  9.]\n",
      " [ 9.  9.  9.  8.  9.]\n",
      " [ 9.  9.  9.  9.  9.]\n",
      " [ 9.  9.  9.  9.  8.]\n",
      " [ 9.  9.  9.  9.  8.]\n",
      " [ 9.  8.  9.  9.  9.]\n",
      " [ 9.  9.  9.  9.  9.]\n",
      " [ 9.  9.  9.  9.  9.]\n",
      " [ 9.  9.  9.  9.  9.]\n",
      " [ 9.  9.  9.  9.  9.]]\n"
     ]
    },
    {
     "name": "stderr",
     "output_type": "stream",
     "text": [
      "ERROR: No traceback has been produced, nothing to debug.\n"
     ]
    }
   ],
   "source": [
    "from ConstrainedNIGNormalMetamodel import *\n",
    "\n",
    "X = np.tile(9., [10,5])\n",
    "for [i,j] in [[0,0],[0,2],[1,3],[3,4],[4,4],[5,1]]:\n",
    "    X[i][j] = float('nan')\n",
    "\n",
    "test = ConstrainedNIGNormalMetamodel(X,'standard', bounds=[0,8])\n",
    "\n",
    "print(test.simulate([1,2,3],numpredictions=100))\n",
    "\n",
    "test.infer()\n",
    "print(test.data)\n",
    "\n",
    "print(test.estimate(1,2))"
   ]
  },
  {
   "cell_type": "markdown",
   "metadata": {},
   "source": [
    "### Categorical Metamodel"
   ]
  },
  {
   "cell_type": "code",
   "execution_count": null,
   "metadata": {
    "collapsed": false
   },
   "outputs": [
    {
     "name": "stdout",
     "output_type": "stream",
     "text": [
      "> \u001b[1;32m<ipython-input-1-d2d7939d22ef>\u001b[0m(2)\u001b[0;36m<module>\u001b[1;34m()\u001b[0m\n",
      "\u001b[1;32m      1 \u001b[1;33m\u001b[0mnoCols\u001b[0m \u001b[1;33m=\u001b[0m \u001b[1;36m10\u001b[0m\u001b[1;33m\u001b[0m\u001b[0m\n",
      "\u001b[0m\u001b[1;32m----> 2 \u001b[1;33m\u001b[0mm\u001b[0m \u001b[1;33m=\u001b[0m \u001b[1;33m[\u001b[0m\u001b[1;36m0.0\u001b[0m \u001b[1;32mfor\u001b[0m \u001b[0m_\u001b[0m \u001b[1;32min\u001b[0m \u001b[0mnp\u001b[0m\u001b[1;33m.\u001b[0m\u001b[0marange\u001b[0m\u001b[1;33m(\u001b[0m\u001b[0mnoCols\u001b[0m\u001b[1;33m)\u001b[0m\u001b[1;33m]\u001b[0m\u001b[1;33m\u001b[0m\u001b[0m\n",
      "\u001b[0m\u001b[1;32m      3 \u001b[1;33m\u001b[0mV\u001b[0m \u001b[1;33m=\u001b[0m \u001b[0ma\u001b[0m \u001b[1;33m=\u001b[0m \u001b[0mb\u001b[0m \u001b[1;33m=\u001b[0m \u001b[1;33m[\u001b[0m\u001b[1;36m1.0\u001b[0m \u001b[1;32mfor\u001b[0m \u001b[0m_\u001b[0m \u001b[1;32min\u001b[0m \u001b[0mnp\u001b[0m\u001b[1;33m.\u001b[0m\u001b[0marange\u001b[0m\u001b[1;33m(\u001b[0m\u001b[0mnoCols\u001b[0m\u001b[1;33m)\u001b[0m\u001b[1;33m]\u001b[0m\u001b[1;33m\u001b[0m\u001b[0m\n",
      "\u001b[0m\n",
      "ipdb> m\n",
      "*** NameError: name 'm' is not defined\n",
      "ipdb> noCols\n",
      "10\n",
      "ipdb> np.arange(noCols)\n",
      "*** NameError: name 'np' is not defined\n",
      "ipdb> import numpy as np\n",
      "ipdb> m = [0.0 for _ in np.arange(noCols)]\n",
      "ipdb> m\n",
      "[0.0, 0.0, 0.0, 0.0, 0.0, 0.0, 0.0, 0.0, 0.0, 0.0]\n"
     ]
    }
   ],
   "source": [
    "%debug\n",
    "#Test basic functionalities\n",
    "\n",
    "from CategoricalMetamodel import *\n",
    "\n",
    "X = np.tile(1., [10,5])\n",
    "for [i,j] in [[0,0],[0,2],[1,3],[3,4],[4,4],[5,1]]:\n",
    "    X[i][j] = float('nan')\n",
    "\n",
    "test = CategoricalMetamodel(X,'standard')\n",
    "\n",
    "print(test.simulate([1,2,3],numpredictions=100))\n",
    "\n",
    "# test.infer()\n",
    "# print(test.data)\n",
    "\n",
    "# print(test.estimate(1,2))"
   ]
  },
  {
   "cell_type": "code",
   "execution_count": 1,
   "metadata": {
    "collapsed": false
   },
   "outputs": [
    {
     "ename": "NameError",
     "evalue": "name 'np' is not defined",
     "output_type": "error",
     "traceback": [
      "\u001b[1;31m---------------------------------------------------------------------------\u001b[0m",
      "\u001b[1;31mNameError\u001b[0m                                 Traceback (most recent call last)",
      "\u001b[1;32m<ipython-input-1-d2d7939d22ef>\u001b[0m in \u001b[0;36m<module>\u001b[1;34m()\u001b[0m\n\u001b[0;32m      1\u001b[0m \u001b[0mnoCols\u001b[0m \u001b[1;33m=\u001b[0m \u001b[1;36m10\u001b[0m\u001b[1;33m\u001b[0m\u001b[0m\n\u001b[1;32m----> 2\u001b[1;33m \u001b[0mm\u001b[0m \u001b[1;33m=\u001b[0m \u001b[1;33m[\u001b[0m\u001b[1;36m0.0\u001b[0m \u001b[1;32mfor\u001b[0m \u001b[0m_\u001b[0m \u001b[1;32min\u001b[0m \u001b[0mnp\u001b[0m\u001b[1;33m.\u001b[0m\u001b[0marange\u001b[0m\u001b[1;33m(\u001b[0m\u001b[0mnoCols\u001b[0m\u001b[1;33m)\u001b[0m\u001b[1;33m]\u001b[0m\u001b[1;33m\u001b[0m\u001b[0m\n\u001b[0m\u001b[0;32m      3\u001b[0m \u001b[0mV\u001b[0m \u001b[1;33m=\u001b[0m \u001b[0ma\u001b[0m \u001b[1;33m=\u001b[0m \u001b[0mb\u001b[0m \u001b[1;33m=\u001b[0m \u001b[1;33m[\u001b[0m\u001b[1;36m1.0\u001b[0m \u001b[1;32mfor\u001b[0m \u001b[0m_\u001b[0m \u001b[1;32min\u001b[0m \u001b[0mnp\u001b[0m\u001b[1;33m.\u001b[0m\u001b[0marange\u001b[0m\u001b[1;33m(\u001b[0m\u001b[0mnoCols\u001b[0m\u001b[1;33m)\u001b[0m\u001b[1;33m]\u001b[0m\u001b[1;33m\u001b[0m\u001b[0m\n\u001b[0;32m      4\u001b[0m \u001b[0mD\u001b[0m\u001b[1;33m=\u001b[0m \u001b[0mdict\u001b[0m\u001b[1;33m(\u001b[0m\u001b[0mloc\u001b[0m\u001b[1;33m=\u001b[0m\u001b[0mm\u001b[0m\u001b[1;33m,\u001b[0m \u001b[0mV\u001b[0m\u001b[1;33m=\u001b[0m\u001b[0mV\u001b[0m\u001b[1;33m,\u001b[0m \u001b[0mshape\u001b[0m\u001b[1;33m=\u001b[0m\u001b[0ma\u001b[0m\u001b[1;33m,\u001b[0m \u001b[0mscale\u001b[0m\u001b[1;33m=\u001b[0m\u001b[0mb\u001b[0m\u001b[1;33m)\u001b[0m\u001b[1;33m\u001b[0m\u001b[0m\n\u001b[0;32m      5\u001b[0m \u001b[0mlen\u001b[0m\u001b[1;33m(\u001b[0m\u001b[0mD\u001b[0m\u001b[1;33m[\u001b[0m\u001b[1;34m'loc'\u001b[0m\u001b[1;33m]\u001b[0m\u001b[1;33m)\u001b[0m\u001b[1;33m\u001b[0m\u001b[0m\n",
      "\u001b[1;31mNameError\u001b[0m: name 'np' is not defined"
     ]
    }
   ],
   "source": [
    "noCols = 10\n",
    "m = [0.0 for _ in np.arange(noCols)]\n",
    "V = a = b = [1.0 for _ in np.arange(noCols)]\n",
    "D= dict(loc=m, V=V, shape=a, scale=b)\n",
    "len(D['loc'])"
   ]
  },
  {
   "cell_type": "code",
   "execution_count": 2,
   "metadata": {
    "collapsed": false
   },
   "outputs": [
    {
     "data": {
      "text/plain": [
       "array([ 3.24218087])"
      ]
     },
     "execution_count": 2,
     "metadata": {},
     "output_type": "execute_result"
    }
   ],
   "source": [
    "import scipy.stats as stats\n",
    "stats.t.rvs(2,loc=1,scale=2,size=1)"
   ]
  }
 ],
 "metadata": {
  "kernelspec": {
   "display_name": "Python 2",
   "language": "python",
   "name": "python2"
  },
  "language_info": {
   "codemirror_mode": {
    "name": "ipython",
    "version": 2
   },
   "file_extension": ".py",
   "mimetype": "text/x-python",
   "name": "python",
   "nbconvert_exporter": "python",
   "pygments_lexer": "ipython2",
   "version": "2.7.9"
  }
 },
 "nbformat": 4,
 "nbformat_minor": 0
}
