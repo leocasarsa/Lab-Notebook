{
 "cells": [
  {
   "cell_type": "code",
   "execution_count": 20,
   "metadata": {
    "collapsed": false
   },
   "outputs": [
    {
     "name": "stdout",
     "output_type": "stream",
     "text": [
      "dict[Class]=  First\n",
      "New dict[Class]=  Second\n",
      "str(dict2): {'Age': '8', 'Name': 'Ana', 'Class': 'First'}\n",
      "len(dict2): 3\n",
      "type(dict2): <type 'dict'>\n",
      "cmp(dict1,dict2) = -1\n",
      "del dict[Name]:  {'Age': '7', 'Class': 'Second'}\n",
      "dict.clear():  {}\n",
      "del dict:  <type 'dict'>\n"
     ]
    }
   ],
   "source": [
    "dict = {'Name': 'Zara', 'Age': '7', 'Class': 'First'}\n",
    "\n",
    "print 'dict[Class]= ', dict['Class']\n",
    "dict['Class'] = 'Second'\n",
    "\n",
    "print 'New dict[Class]= ', dict['Class']\n",
    "\n",
    "dict1 = dict\n",
    "dict2 = {'Name':'Ana', 'Age':'8','Class':'First'}\n",
    "\n",
    "print 'str(dict2):', str(dict2)\n",
    "\n",
    "print 'len(dict2):', len(dict2)\n",
    "\n",
    "print 'type(dict2):', type(dict2)\n",
    "\n",
    "print 'cmp(dict1,dict2) =', cmp(dict1,dict2)\n",
    "\n",
    "\n",
    "del dict['Name']\n",
    "print 'del dict[Name]: ',dict\n",
    "\n",
    "dict.clear()\n",
    "print 'dict.clear(): ', dict\n",
    "\n",
    "del dict\n",
    "print 'del dict: ',dict"
   ]
  },
  {
   "cell_type": "code",
   "execution_count": 14,
   "metadata": {
    "collapsed": false
   },
   "outputs": [],
   "source": [
    "cmp?"
   ]
  }
 ],
 "metadata": {
  "kernelspec": {
   "display_name": "Python 2",
   "language": "python",
   "name": "python2"
  },
  "language_info": {
   "codemirror_mode": {
    "name": "ipython",
    "version": 2
   },
   "file_extension": ".py",
   "mimetype": "text/x-python",
   "name": "python",
   "nbconvert_exporter": "python",
   "pygments_lexer": "ipython2",
   "version": "2.7.9"
  }
 },
 "nbformat": 4,
 "nbformat_minor": 0
}
